{
 "cells": [
  {
   "cell_type": "markdown",
   "metadata": {},
   "source": [
    "# Infosys 722 Iteration 4 BDAS"
   ]
  },
  {
   "cell_type": "markdown",
   "metadata": {},
   "source": [
    "Author: Yuqing Qu "
   ]
  },
  {
   "cell_type": "markdown",
   "metadata": {},
   "source": [
    "UPI: yqu270 "
   ]
  },
  {
   "cell_type": "markdown",
   "metadata": {},
   "source": [
    "GitHub Link: https://github.com/beckyqu/Infosys722_Iteration4"
   ]
  },
  {
   "cell_type": "markdown",
   "metadata": {},
   "source": [
    "## Import "
   ]
  },
  {
   "cell_type": "code",
   "execution_count": 4,
   "metadata": {},
   "outputs": [],
   "source": [
    "import findspark\n",
    "findspark.init('/home/ubuntu/spark-3.2.1-bin-hadoop2.7')\n",
    "import pyspark\n",
    "from pyspark.sql import SparkSession\n",
    "spark = SparkSession.builder.appName('I4').getOrCreate()\n",
    "import pandas\n",
    "import matplotlib.pyplot as plt\n",
    "import seaborn as sns\n",
    "spark.conf.set(\"spark.sql.debug.maxToStringFields\", 100)"
   ]
  },
  {
   "cell_type": "code",
   "execution_count": 5,
   "metadata": {},
   "outputs": [],
   "source": [
    "# Importing data\n",
    "marketData = spark.read.csv('marketing_campaign.csv', header=True, inferSchema=True)\n"
   ]
  },
  {
   "cell_type": "markdown",
   "metadata": {},
   "source": [
    "## Step 2. Data Understanding "
   ]
  },
  {
   "cell_type": "markdown",
   "metadata": {},
   "source": [
    "### 2.1 Collecting Initial Data"
   ]
  },
  {
   "cell_type": "code",
   "execution_count": 6,
   "metadata": {},
   "outputs": [
    {
     "name": "stdout",
     "output_type": "stream",
     "text": [
      "+----+----------+----------+--------------+------+-------+--------+-----------+-------+--------+---------+---------------+---------------+----------------+------------+-----------------+---------------+-------------------+-----------------+-----------------+------------+------------+------------+------------+------------+--------+-------------+---------+--------+\n",
      "|  ID|Year_Birth| Education|Marital_Status|Income|Kidhome|Teenhome|Dt_Customer|Recency|MntWines|MntFruits|MntMeatProducts|MntFishProducts|MntSweetProducts|MntGoldProds|NumDealsPurchases|NumWebPurchases|NumCatalogPurchases|NumStorePurchases|NumWebVisitsMonth|AcceptedCmp3|AcceptedCmp4|AcceptedCmp5|AcceptedCmp1|AcceptedCmp2|Complain|Z_CostContact|Z_Revenue|Response|\n",
      "+----+----------+----------+--------------+------+-------+--------+-----------+-------+--------+---------+---------------+---------------+----------------+------------+-----------------+---------------+-------------------+-----------------+-----------------+------------+------------+------------+------------+------------+--------+-------------+---------+--------+\n",
      "|5524|      1957|Graduation|        Single| 58138|      0|       0| 04/09/2012|     58|     635|       88|            546|            172|              88|          88|                3|              8|                 10|                4|                7|           0|           0|           0|           0|           0|       0|            3|       11|       1|\n",
      "|2174|      1954|Graduation|        Single| 46344|      1|       1| 08/03/2014|     38|      11|        1|              6|              2|               1|           6|                2|              1|                  1|                2|                5|           0|           0|           0|           0|           0|       0|            3|       11|       0|\n",
      "+----+----------+----------+--------------+------+-------+--------+-----------+-------+--------+---------+---------------+---------------+----------------+------------+-----------------+---------------+-------------------+-----------------+-----------------+------------+------------+------------+------------+------------+--------+-------------+---------+--------+\n",
      "only showing top 2 rows\n",
      "\n"
     ]
    }
   ],
   "source": [
    "# Observe the data\n",
    "marketData.show(2)"
   ]
  },
  {
   "cell_type": "markdown",
   "metadata": {},
   "source": [
    "### 2.2 Describing Data"
   ]
  },
  {
   "cell_type": "code",
   "execution_count": 7,
   "metadata": {},
   "outputs": [
    {
     "name": "stdout",
     "output_type": "stream",
     "text": [
      "Number of Row: 2240\n",
      "Number of Columns: 29\n"
     ]
    }
   ],
   "source": [
    "# extracting number of rows \n",
    "row = marketData.count()\n",
    "print(\"Number of Row:\", row) \n",
    "# extracting number of columns\n",
    "col = len(marketData.columns)\n",
    "print(\"Number of Columns:\", col)"
   ]
  },
  {
   "cell_type": "code",
   "execution_count": 8,
   "metadata": {},
   "outputs": [
    {
     "name": "stdout",
     "output_type": "stream",
     "text": [
      "root\n",
      " |-- ID: integer (nullable = true)\n",
      " |-- Year_Birth: integer (nullable = true)\n",
      " |-- Education: string (nullable = true)\n",
      " |-- Marital_Status: string (nullable = true)\n",
      " |-- Income: integer (nullable = true)\n",
      " |-- Kidhome: integer (nullable = true)\n",
      " |-- Teenhome: integer (nullable = true)\n",
      " |-- Dt_Customer: string (nullable = true)\n",
      " |-- Recency: integer (nullable = true)\n",
      " |-- MntWines: integer (nullable = true)\n",
      " |-- MntFruits: integer (nullable = true)\n",
      " |-- MntMeatProducts: integer (nullable = true)\n",
      " |-- MntFishProducts: integer (nullable = true)\n",
      " |-- MntSweetProducts: integer (nullable = true)\n",
      " |-- MntGoldProds: integer (nullable = true)\n",
      " |-- NumDealsPurchases: integer (nullable = true)\n",
      " |-- NumWebPurchases: integer (nullable = true)\n",
      " |-- NumCatalogPurchases: integer (nullable = true)\n",
      " |-- NumStorePurchases: integer (nullable = true)\n",
      " |-- NumWebVisitsMonth: integer (nullable = true)\n",
      " |-- AcceptedCmp3: integer (nullable = true)\n",
      " |-- AcceptedCmp4: integer (nullable = true)\n",
      " |-- AcceptedCmp5: integer (nullable = true)\n",
      " |-- AcceptedCmp1: integer (nullable = true)\n",
      " |-- AcceptedCmp2: integer (nullable = true)\n",
      " |-- Complain: integer (nullable = true)\n",
      " |-- Z_CostContact: integer (nullable = true)\n",
      " |-- Z_Revenue: integer (nullable = true)\n",
      " |-- Response: integer (nullable = true)\n",
      "\n"
     ]
    }
   ],
   "source": [
    "# data structure \n",
    "marketData.printSchema()"
   ]
  },
  {
   "cell_type": "markdown",
   "metadata": {},
   "source": [
    "### 2.3 Data Exploration "
   ]
  },
  {
   "cell_type": "markdown",
   "metadata": {},
   "source": [
    "#### 2.3.1 Exploration of most important predictors (features)"
   ]
  },
  {
   "cell_type": "code",
   "execution_count": 9,
   "metadata": {},
   "outputs": [
    {
     "name": "stdout",
     "output_type": "stream",
     "text": [
      "+---+----------+---------+--------------+------+-------+--------+-----------+-------+--------+---------+---------------+---------------+----------------+------------+-----------------+---------------+-------------------+-----------------+-----------------+------------+------------+------------+------------+------------+--------+-------------+---------+--------+\n",
      "| ID|Year_Birth|Education|Marital_Status|Income|Kidhome|Teenhome|Dt_Customer|Recency|MntWines|MntFruits|MntMeatProducts|MntFishProducts|MntSweetProducts|MntGoldProds|NumDealsPurchases|NumWebPurchases|NumCatalogPurchases|NumStorePurchases|NumWebVisitsMonth|AcceptedCmp3|AcceptedCmp4|AcceptedCmp5|AcceptedCmp1|AcceptedCmp2|Complain|Z_CostContact|Z_Revenue|Response|\n",
      "+---+----------+---------+--------------+------+-------+--------+-----------+-------+--------+---------+---------------+---------------+----------------+------------+-----------------+---------------+-------------------+-----------------+-----------------+------------+------------+------------+------------+------------+--------+-------------+---------+--------+\n",
      "|  0|         0|        0|             0|    24|      0|       0|          0|      0|       0|        0|              0|              0|               0|           0|                0|              0|                  0|                0|                0|           0|           0|           0|           0|           0|       0|            0|        0|       0|\n",
      "+---+----------+---------+--------------+------+-------+--------+-----------+-------+--------+---------+---------------+---------------+----------------+------------+-----------------+---------------+-------------------+-----------------+-----------------+------------+------------+------------+------------+------------+--------+-------------+---------+--------+\n",
      "\n"
     ]
    }
   ],
   "source": [
    "# Count the missing values\n",
    "from pyspark.sql.functions import isnan, when, count, col\n",
    "marketData.select([count(when(isnan(c) | col(c).isNull(), c)).alias(c) for c in marketData.columns]).show()"
   ]
  },
  {
   "cell_type": "code",
   "execution_count": 10,
   "metadata": {},
   "outputs": [],
   "source": [
    "pd = marketData.toPandas()"
   ]
  },
  {
   "cell_type": "code",
   "execution_count": 11,
   "metadata": {},
   "outputs": [
    {
     "data": {
      "image/png": "[encoded data removed]",
      "text/plain": [
       "<Figure size 432x288 with 1 Axes>"
      ]
     },
     "metadata": {
      "needs_background": "light"
     },
     "output_type": "display_data"
    }
   ],
   "source": [
    "# Histogram of Education\n",
    "plt.hist(pd['Education'])\n",
    "plt.show()\n"
   ]
  },
  {
   "cell_type": "code",
   "execution_count": 12,
   "metadata": {},
   "outputs": [
    {
     "data": {
      "image/png": "[encoded data removed]",
      "text/plain": [
       "<Figure size 432x288 with 1 Axes>"
      ]
     },
     "metadata": {
      "needs_background": "light"
     },
     "output_type": "display_data"
    }
   ],
   "source": [
    "# Histogram of Marital_Status\n",
    "plt.hist(pd['Marital_Status'])\n",
    "plt.show()"
   ]
  },
  {
   "cell_type": "code",
   "execution_count": 13,
   "metadata": {},
   "outputs": [
    {
     "data": {
      "image/png": "[encoded data removed]",
      "text/plain": [
       "<Figure size 432x288 with 1 Axes>"
      ]
     },
     "metadata": {
      "needs_background": "light"
     },
     "output_type": "display_data"
    }
   ],
   "source": [
    "# Histogram of Income\n",
    "plt.hist(pd['Income'])\n",
    "plt.show()"
   ]
  },
  {
   "cell_type": "code",
   "execution_count": 14,
   "metadata": {},
   "outputs": [
    {
     "data": {
      "image/png": "[encoded data removed]",
      "text/plain": [
       "<Figure size 432x288 with 1 Axes>"
      ]
     },
     "metadata": {
      "needs_background": "light"
     },
     "output_type": "display_data"
    }
   ],
   "source": [
    "# Multiplot of Expenses VS Marital_Status\n",
    "plt.scatter(pd['Marital_Status'], pd['MntWines'], color='r', label='MntWins')\n",
    "plt.scatter(pd['Marital_Status'], pd['MntMeatProducts'], color='y', label='MntMeatProducts')\n",
    "plt.scatter(pd['Marital_Status'], pd['MntFishProducts'], color='b', label='MntFishProducts')\n",
    "plt.scatter(pd['Marital_Status'], pd['MntGoldProds'], color='m', label='MntGoldProds')\n",
    "plt.scatter(pd['Marital_Status'], pd['MntFruits'], color='g', label='MntFruits')\n",
    "plt.scatter(pd['Marital_Status'], pd['MntSweetProducts'], color='c', label='MntSweetProducts')\n",
    "plt.show()"
   ]
  },
  {
   "cell_type": "code",
   "execution_count": 15,
   "metadata": {},
   "outputs": [
    {
     "data": {
      "image/png": "[encoded data removed]",
      "text/plain": [
       "<Figure size 432x288 with 1 Axes>"
      ]
     },
     "metadata": {
      "needs_background": "light"
     },
     "output_type": "display_data"
    }
   ],
   "source": [
    "# Multiplot of Expenses VS Education\n",
    "plt.scatter(pd['Education'], pd['MntWines'], color='r', label='MntWins')\n",
    "plt.scatter(pd['Education'], pd['MntMeatProducts'], color='y', label='MntMeatProducts')\n",
    "plt.scatter(pd['Education'], pd['MntFishProducts'], color='b', label='MntFishProducts')\n",
    "plt.scatter(pd['Education'], pd['MntGoldProds'], color='m', label='MntGoldProds')\n",
    "plt.scatter(pd['Education'], pd['MntFruits'], color='g', label='MntFruits')\n",
    "plt.scatter(pd['Education'], pd['MntSweetProducts'], color='c', label='MntSweetProducts')\n",
    "plt.show()"
   ]
  },
  {
   "cell_type": "markdown",
   "metadata": {},
   "source": [
    "### 2.4 Verifying Data Quality"
   ]
  },
  {
   "cell_type": "code",
   "execution_count": 16,
   "metadata": {},
   "outputs": [
    {
     "name": "stderr",
     "output_type": "stream",
     "text": [
      "                                                                                \r"
     ]
    },
    {
     "name": "stdout",
     "output_type": "stream",
     "text": [
      "+-------+------------------+------------------+---------+--------------+------------------+-------------------+------------------+-----------+-----------------+------------------+------------------+-----------------+------------------+-----------------+----------------+-----------------+------------------+-------------------+-----------------+-----------------+-------------------+-------------------+-------------------+-------------------+--------------------+-------------------+-------------+---------+-------------------+\n",
      "|summary|                ID|        Year_Birth|Education|Marital_Status|            Income|            Kidhome|          Teenhome|Dt_Customer|          Recency|          MntWines|         MntFruits|  MntMeatProducts|   MntFishProducts| MntSweetProducts|    MntGoldProds|NumDealsPurchases|   NumWebPurchases|NumCatalogPurchases|NumStorePurchases|NumWebVisitsMonth|       AcceptedCmp3|       AcceptedCmp4|       AcceptedCmp5|       AcceptedCmp1|        AcceptedCmp2|           Complain|Z_CostContact|Z_Revenue|           Response|\n",
      "+-------+------------------+------------------+---------+--------------+------------------+-------------------+------------------+-----------+-----------------+------------------+------------------+-----------------+------------------+-----------------+----------------+-----------------+------------------+-------------------+-----------------+-----------------+-------------------+-------------------+-------------------+-------------------+--------------------+-------------------+-------------+---------+-------------------+\n",
      "|  count|              2240|              2240|     2240|          2240|              2216|               2240|              2240|       2240|             2240|              2240|              2240|             2240|              2240|             2240|            2240|             2240|              2240|               2240|             2240|             2240|               2240|               2240|               2240|               2240|                2240|               2240|         2240|     2240|               2240|\n",
      "|   mean| 5592.159821428571|1968.8058035714287|     null|          null| 52247.25135379061|0.44419642857142855|           0.50625|       null|        49.109375| 303.9357142857143|26.302232142857143|           166.95| 37.52544642857143|27.06294642857143|       44.021875|            2.325| 4.084821428571429| 2.6620535714285714|5.790178571428571|5.316517857142857|0.07276785714285715|0.07455357142857143|0.07276785714285715|0.06428571428571428|0.013392857142857142|           0.009375|          3.0|     11.0|0.14910714285714285|\n",
      "| stddev|3246.6621975643416|11.984069456885827|     null|          null|25173.076660901414| 0.5383980977345935|0.5445382307698761|       null|28.96245280837821|336.59739260537197|39.773433764578584|225.7153725117536|54.628979402878095|41.28049848785491|52.1674389149973| 1.93223750085598|2.7787141473881007| 2.9231006555397463|3.250958145674428| 2.42664500954729| 0.2598130699218951|0.26272828485356176| 0.2598130699218953|0.24531597433401406| 0.11497560625548417|0.09639116794449748|          0.0|      0.0|0.35627358640847934|\n",
      "|    min|                 0|              1893| 2n Cycle|        Absurd|              1730|                  0|                 0| 01/01/2013|                0|                 0|                 0|                0|                 0|                0|               0|                0|                 0|                  0|                0|                0|                  0|                  0|                  0|                  0|                   0|                  0|            3|       11|                  0|\n",
      "|    max|             11191|              1996|      PhD|          YOLO|            666666|                  2|                 2| 31/12/2013|               99|              1493|               199|             1725|               259|              263|             362|               15|                27|                 28|               13|               20|                  1|                  1|                  1|                  1|                   1|                  1|            3|       11|                  1|\n",
      "+-------+------------------+------------------+---------+--------------+------------------+-------------------+------------------+-----------+-----------------+------------------+------------------+-----------------+------------------+-----------------+----------------+-----------------+------------------+-------------------+-----------------+-----------------+-------------------+-------------------+-------------------+-------------------+--------------------+-------------------+-------------+---------+-------------------+\n",
      "\n"
     ]
    }
   ],
   "source": [
    "marketData.describe().show()"
   ]
  },
  {
   "cell_type": "code",
   "execution_count": 17,
   "metadata": {},
   "outputs": [
    {
     "name": "stdout",
     "output_type": "stream",
     "text": [
      "+-------+------------------+\n",
      "|summary|            Income|\n",
      "+-------+------------------+\n",
      "|  count|              2216|\n",
      "|   mean| 52247.25135379061|\n",
      "| stddev|25173.076660901414|\n",
      "|    min|              1730|\n",
      "|    max|            666666|\n",
      "+-------+------------------+\n",
      "\n"
     ]
    }
   ],
   "source": [
    "marketData.describe(['Income']).show()"
   ]
  },
  {
   "cell_type": "code",
   "execution_count": 18,
   "metadata": {},
   "outputs": [
    {
     "data": {
      "image/png": "[encoded data removed]",
      "text/plain": [
       "<Figure size 432x288 with 1 Axes>"
      ]
     },
     "metadata": {
      "needs_background": "light"
     },
     "output_type": "display_data"
    }
   ],
   "source": [
    "plt.scatter(pd['Income'],pd['ID'])\n",
    "plt.show()"
   ]
  },
  {
   "cell_type": "code",
   "execution_count": 19,
   "metadata": {},
   "outputs": [
    {
     "data": {
      "image/png": "[encoded data removed]",
      "text/plain": [
       "<Figure size 432x288 with 1 Axes>"
      ]
     },
     "metadata": {
      "needs_background": "light"
     },
     "output_type": "display_data"
    },
    {
     "data": {
      "image/png": "[encoded data removed]",
      "text/plain": [
       "<Figure size 432x288 with 1 Axes>"
      ]
     },
     "metadata": {
      "needs_background": "light"
     },
     "output_type": "display_data"
    },
    {
     "data": {
      "image/png": "[encoded data removed]",
      "text/plain": [
       "<Figure size 432x288 with 1 Axes>"
      ]
     },
     "metadata": {
      "needs_background": "light"
     },
     "output_type": "display_data"
    },
    {
     "data": {
      "image/png": "[encoded data removed]",
      "text/plain": [
       "<Figure size 432x288 with 1 Axes>"
      ]
     },
     "metadata": {
      "needs_background": "light"
     },
     "output_type": "display_data"
    }
   ],
   "source": [
    "numeric_col1 = ['Year_Birth','Income', 'MntWines', 'MntFruits']\n",
    "numeric_col2 = ['MntMeatProducts', 'MntFishProducts', 'MntSweetProducts']\n",
    "numeric_col3 = ['MntGoldProds', 'NumDealsPurchases', 'NumWebPurchases']\n",
    "numeric_col4 = ['NumCatalogPurchases', 'NumStorePurchases', 'NumWebVisitsMonth']\n",
    "categorical_col = ['Education','Marital_Status','Dt_Customer']\n",
    "\n",
    "pd.boxplot(numeric_col1)\n",
    "plt.show()\n",
    "\n",
    "pd.boxplot(numeric_col2)\n",
    "plt.show()\n",
    "\n",
    "pd.boxplot(numeric_col3)\n",
    "plt.show()\n",
    "\n",
    "pd.boxplot(numeric_col4)\n",
    "plt.show()"
   ]
  },
  {
   "cell_type": "code",
   "execution_count": null,
   "metadata": {},
   "outputs": [],
   "source": []
  },
  {
   "cell_type": "markdown",
   "metadata": {},
   "source": [
    "## Step3. Data Preparation\n",
    "### 3.1 Data Selection"
   ]
  },
  {
   "cell_type": "code",
   "execution_count": 20,
   "metadata": {},
   "outputs": [
    {
     "name": "stdout",
     "output_type": "stream",
     "text": [
      "root\n",
      " |-- ID: integer (nullable = true)\n",
      " |-- Year_Birth: integer (nullable = true)\n",
      " |-- Education: string (nullable = true)\n",
      " |-- Marital_Status: string (nullable = true)\n",
      " |-- Income: integer (nullable = true)\n",
      " |-- Kidhome: integer (nullable = true)\n",
      " |-- Teenhome: integer (nullable = true)\n",
      " |-- Dt_Customer: string (nullable = true)\n",
      " |-- Recency: integer (nullable = true)\n",
      " |-- MntWines: integer (nullable = true)\n",
      " |-- MntFruits: integer (nullable = true)\n",
      " |-- MntMeatProducts: integer (nullable = true)\n",
      " |-- MntFishProducts: integer (nullable = true)\n",
      " |-- MntSweetProducts: integer (nullable = true)\n",
      " |-- MntGoldProds: integer (nullable = true)\n",
      " |-- NumDealsPurchases: integer (nullable = true)\n",
      " |-- NumWebPurchases: integer (nullable = true)\n",
      " |-- NumCatalogPurchases: integer (nullable = true)\n",
      " |-- NumStorePurchases: integer (nullable = true)\n",
      " |-- NumWebVisitsMonth: integer (nullable = true)\n",
      " |-- AcceptedCmp3: integer (nullable = true)\n",
      " |-- AcceptedCmp4: integer (nullable = true)\n",
      " |-- AcceptedCmp5: integer (nullable = true)\n",
      " |-- AcceptedCmp1: integer (nullable = true)\n",
      " |-- AcceptedCmp2: integer (nullable = true)\n",
      " |-- Complain: integer (nullable = true)\n",
      " |-- Response: integer (nullable = true)\n",
      "\n"
     ]
    }
   ],
   "source": [
    "marketData = marketData.drop('Z_CostContact', 'Z_Revenue')\n",
    "marketData.printSchema()  "
   ]
  },
  {
   "cell_type": "code",
   "execution_count": 21,
   "metadata": {},
   "outputs": [
    {
     "name": "stdout",
     "output_type": "stream",
     "text": [
      "Number of Row: 2240\n",
      "Number of Columns: 27\n"
     ]
    }
   ],
   "source": [
    "# extracting number of rows \n",
    "row = marketData.count()\n",
    "print(\"Number of Row:\", row) \n",
    "# extracting number of columns\n",
    "col = len(marketData.columns)\n",
    "print(\"Number of Columns:\", col)"
   ]
  },
  {
   "cell_type": "markdown",
   "metadata": {},
   "source": [
    "### 3.2. Cleaning the Data\n",
    "#### 3.2.1 Missing Value Issues"
   ]
  },
  {
   "cell_type": "code",
   "execution_count": 22,
   "metadata": {},
   "outputs": [
    {
     "data": {
      "text/plain": [
       "[Row(avg(Income)=52247.25135379061)]"
      ]
     },
     "execution_count": 22,
     "metadata": {},
     "output_type": "execute_result"
    }
   ],
   "source": [
    "from pyspark.sql.functions import mean\n",
    "# Collect the average\n",
    "income_sales = marketData.select(mean(marketData['Income'])).collect()\n",
    "income_sales"
   ]
  },
  {
   "cell_type": "code",
   "execution_count": 23,
   "metadata": {},
   "outputs": [],
   "source": [
    "# Assign that value to a variable\n",
    "income_sales[0][0]\n",
    "income_sales_val = income_sales[0][0]"
   ]
  },
  {
   "cell_type": "code",
   "execution_count": 24,
   "metadata": {},
   "outputs": [],
   "source": [
    "# Fill the missing values with the mean\n",
    "marketData = marketData.na.fill(income_sales_val, 'Income')"
   ]
  },
  {
   "cell_type": "code",
   "execution_count": 25,
   "metadata": {},
   "outputs": [
    {
     "name": "stdout",
     "output_type": "stream",
     "text": [
      "+---+----------+---------+--------------+------+-------+--------+-----------+-------+--------+---------+---------------+---------------+----------------+------------+-----------------+---------------+-------------------+-----------------+-----------------+------------+------------+------------+------------+------------+--------+--------+\n",
      "| ID|Year_Birth|Education|Marital_Status|Income|Kidhome|Teenhome|Dt_Customer|Recency|MntWines|MntFruits|MntMeatProducts|MntFishProducts|MntSweetProducts|MntGoldProds|NumDealsPurchases|NumWebPurchases|NumCatalogPurchases|NumStorePurchases|NumWebVisitsMonth|AcceptedCmp3|AcceptedCmp4|AcceptedCmp5|AcceptedCmp1|AcceptedCmp2|Complain|Response|\n",
      "+---+----------+---------+--------------+------+-------+--------+-----------+-------+--------+---------+---------------+---------------+----------------+------------+-----------------+---------------+-------------------+-----------------+-----------------+------------+------------+------------+------------+------------+--------+--------+\n",
      "|  0|         0|        0|             0|     0|      0|       0|          0|      0|       0|        0|              0|              0|               0|           0|                0|              0|                  0|                0|                0|           0|           0|           0|           0|           0|       0|       0|\n",
      "+---+----------+---------+--------------+------+-------+--------+-----------+-------+--------+---------+---------------+---------------+----------------+------------+-----------------+---------------+-------------------+-----------------+-----------------+------------+------------+------------+------------+------------+--------+--------+\n",
      "\n"
     ]
    }
   ],
   "source": [
    "# Count the missing values\n",
    "from pyspark.sql.functions import isnan, when, count, col\n",
    "marketData.select([count(when(isnan(c) | col(c).isNull(), c)).alias(c) for c in marketData.columns]).show()"
   ]
  },
  {
   "cell_type": "markdown",
   "metadata": {},
   "source": [
    "#### 3.2.2 Extreme/Outliers Value Issues"
   ]
  },
  {
   "cell_type": "code",
   "execution_count": 26,
   "metadata": {},
   "outputs": [],
   "source": [
    "from pyspark.sql import functions as f"
   ]
  },
  {
   "cell_type": "code",
   "execution_count": 27,
   "metadata": {},
   "outputs": [],
   "source": [
    "# Detect outliers which lies outside of the lower and the upper bound \n",
    "def find_outliers(df):\n",
    "\n",
    "    # Identifying the numerical columns in a spark dataframe\n",
    "    numeric_columns = [column[0] for column in df.dtypes if column[1]=='int']\n",
    "\n",
    "    # Using the `for` loop to create new columns by identifying the outliers for each feature\n",
    "    for column in numeric_columns:\n",
    "\n",
    "        less_Q1 = 'less_Q1_{}'.format(column)\n",
    "        more_Q3 = 'more_Q3_{}'.format(column)\n",
    "        Q1 = 'Q1_{}'.format(column)\n",
    "        Q3 = 'Q3_{}'.format(column)\n",
    "\n",
    "        # Q1 : First Quartile ., Q3 : Third Quartile\n",
    "        Q1 = df.approxQuantile(column,[0.25],relativeError=0)\n",
    "        Q3 = df.approxQuantile(column,[0.75],relativeError=0)\n",
    "        \n",
    "        # IQR : Inter Quantile Range\n",
    "        # We need to define the index [0], as Q1 & Q3 are a set of lists., to perform a mathematical operation\n",
    "        # Q1 & Q3 are defined seperately so as to have a clear indication on First Quantile & 3rd Quantile\n",
    "        IQR = Q3[0] - Q1[0]\n",
    "        \n",
    "        #selecting the data, with -1.5*IQR to + 1.5*IQR., where param = 1.5 default value\n",
    "        less_Q1 =  Q1[0] - 1.5*IQR\n",
    "        more_Q3 =  Q3[0] + 1.5*IQR\n",
    "        \n",
    "        isOutlierCol = 'is_outlier_{}'.format(column)\n",
    "        \n",
    "        df = df.withColumn(isOutlierCol,f.when((df[column] > more_Q3) | (df[column] < less_Q1), 1).otherwise(0))\n",
    "    \n",
    "\n",
    "    # Selecting the specific columns which we have added above, to check if there are any outliers\n",
    "    selected_columns = [column for column in df.columns if column.startswith(\"is_outlier\")]\n",
    "\n",
    "    # Adding all the outlier columns into a new colum \"total_outliers\", to see the total number of outliers\n",
    "    df = df.withColumn('total_outliers',sum(df[column] for column in selected_columns))\n",
    "\n",
    "    # Dropping the extra columns created above, just to create nice dataframe., without extra columns\n",
    "    df = df.drop(*[column for column in df.columns if column.startswith(\"is_outlier\")])\n",
    "\n",
    "    return df"
   ]
  },
  {
   "cell_type": "code",
   "execution_count": 28,
   "metadata": {},
   "outputs": [],
   "source": [
    "new_df = find_outliers(marketData)"
   ]
  },
  {
   "cell_type": "code",
   "execution_count": 29,
   "metadata": {},
   "outputs": [
    {
     "name": "stdout",
     "output_type": "stream",
     "text": [
      "+----+----------+----------+--------------+------+-------+--------+-----------+-------+--------+---------+---------------+---------------+----------------+------------+-----------------+---------------+-------------------+-----------------+-----------------+------------+------------+------------+------------+------------+--------+--------+--------------+\n",
      "|  ID|Year_Birth| Education|Marital_Status|Income|Kidhome|Teenhome|Dt_Customer|Recency|MntWines|MntFruits|MntMeatProducts|MntFishProducts|MntSweetProducts|MntGoldProds|NumDealsPurchases|NumWebPurchases|NumCatalogPurchases|NumStorePurchases|NumWebVisitsMonth|AcceptedCmp3|AcceptedCmp4|AcceptedCmp5|AcceptedCmp1|AcceptedCmp2|Complain|Response|total_outliers|\n",
      "+----+----------+----------+--------------+------+-------+--------+-----------+-------+--------+---------+---------------+---------------+----------------+------------+-----------------+---------------+-------------------+-----------------+-----------------+------------+------------+------------+------------+------------+--------+--------+--------------+\n",
      "|5524|      1957|Graduation|        Single| 58138|      0|       0| 04/09/2012|     58|     635|       88|            546|            172|              88|          88|                3|              8|                 10|                4|                7|           0|           0|           0|           0|           0|       0|       1|             4|\n",
      "|2174|      1954|Graduation|        Single| 46344|      1|       1| 08/03/2014|     38|      11|        1|              6|              2|               1|           6|                2|              1|                  1|                2|                5|           0|           0|           0|           0|           0|       0|       0|             0|\n",
      "|4141|      1965|Graduation|      Together| 71613|      0|       0| 21/08/2013|     26|     426|       49|            127|            111|              21|          42|                1|              8|                  2|               10|                4|           0|           0|           0|           0|           0|       0|       0|             0|\n",
      "|6182|      1984|Graduation|      Together| 26646|      1|       0| 10/02/2014|     26|      11|        4|             20|             10|               3|           5|                2|              2|                  0|                4|                6|           0|           0|           0|           0|           0|       0|       0|             0|\n",
      "|5324|      1981|       PhD|       Married| 58293|      1|       0| 19/01/2014|     94|     173|       43|            118|             46|              27|          15|                5|              5|                  3|                6|                5|           0|           0|           0|           0|           0|       0|       0|             0|\n",
      "|7446|      1967|    Master|      Together| 62513|      0|       1| 09/09/2013|     16|     520|       42|             98|              0|              42|          14|                2|              6|                  4|               10|                6|           0|           0|           0|           0|           0|       0|       0|             0|\n",
      "| 965|      1971|Graduation|      Divorced| 55635|      0|       1| 13/11/2012|     34|     235|       65|            164|             50|              49|          27|                4|              7|                  3|                7|                6|           0|           0|           0|           0|           0|       0|       0|             0|\n",
      "|6177|      1985|       PhD|       Married| 33454|      1|       0| 08/05/2013|     32|      76|       10|             56|              3|               1|          23|                2|              4|                  0|                4|                8|           0|           0|           0|           0|           0|       0|       0|             0|\n",
      "|4855|      1974|       PhD|      Together| 30351|      1|       0| 06/06/2013|     19|      14|        0|             24|              3|               3|           2|                1|              3|                  0|                2|                9|           0|           0|           0|           0|           0|       0|       1|             1|\n",
      "|5899|      1950|       PhD|      Together|  5648|      1|       1| 13/03/2014|     68|      28|        0|              6|              1|               1|          13|                1|              1|                  0|                0|               20|           1|           0|           0|           0|           0|       0|       0|             2|\n",
      "+----+----------+----------+--------------+------+-------+--------+-----------+-------+--------+---------+---------------+---------------+----------------+------------+-----------------+---------------+-------------------+-----------------+-----------------+------------+------------+------------+------------+------------+--------+--------+--------------+\n",
      "only showing top 10 rows\n",
      "\n"
     ]
    }
   ],
   "source": [
    "new_df.show(10)"
   ]
  },
  {
   "cell_type": "code",
   "execution_count": 30,
   "metadata": {},
   "outputs": [
    {
     "name": "stdout",
     "output_type": "stream",
     "text": [
      "+----+----------+----------+--------------+------+-------+--------+-----------+-------+--------+---------+---------------+---------------+----------------+------------+-----------------+---------------+-------------------+-----------------+-----------------+------------+------------+------------+------------+------------+--------+--------+\n",
      "|  ID|Year_Birth| Education|Marital_Status|Income|Kidhome|Teenhome|Dt_Customer|Recency|MntWines|MntFruits|MntMeatProducts|MntFishProducts|MntSweetProducts|MntGoldProds|NumDealsPurchases|NumWebPurchases|NumCatalogPurchases|NumStorePurchases|NumWebVisitsMonth|AcceptedCmp3|AcceptedCmp4|AcceptedCmp5|AcceptedCmp1|AcceptedCmp2|Complain|Response|\n",
      "+----+----------+----------+--------------+------+-------+--------+-----------+-------+--------+---------+---------------+---------------+----------------+------------+-----------------+---------------+-------------------+-----------------+-----------------+------------+------------+------------+------------+------------+--------+--------+\n",
      "|2174|      1954|Graduation|        Single| 46344|      1|       1| 08/03/2014|     38|      11|        1|              6|              2|               1|           6|                2|              1|                  1|                2|                5|           0|           0|           0|           0|           0|       0|       0|\n",
      "|4141|      1965|Graduation|      Together| 71613|      0|       0| 21/08/2013|     26|     426|       49|            127|            111|              21|          42|                1|              8|                  2|               10|                4|           0|           0|           0|           0|           0|       0|       0|\n",
      "|6182|      1984|Graduation|      Together| 26646|      1|       0| 10/02/2014|     26|      11|        4|             20|             10|               3|           5|                2|              2|                  0|                4|                6|           0|           0|           0|           0|           0|       0|       0|\n",
      "|5324|      1981|       PhD|       Married| 58293|      1|       0| 19/01/2014|     94|     173|       43|            118|             46|              27|          15|                5|              5|                  3|                6|                5|           0|           0|           0|           0|           0|       0|       0|\n",
      "|7446|      1967|    Master|      Together| 62513|      0|       1| 09/09/2013|     16|     520|       42|             98|              0|              42|          14|                2|              6|                  4|               10|                6|           0|           0|           0|           0|           0|       0|       0|\n",
      "| 965|      1971|Graduation|      Divorced| 55635|      0|       1| 13/11/2012|     34|     235|       65|            164|             50|              49|          27|                4|              7|                  3|                7|                6|           0|           0|           0|           0|           0|       0|       0|\n",
      "|6177|      1985|       PhD|       Married| 33454|      1|       0| 08/05/2013|     32|      76|       10|             56|              3|               1|          23|                2|              4|                  0|                4|                8|           0|           0|           0|           0|           0|       0|       0|\n",
      "|4855|      1974|       PhD|      Together| 30351|      1|       0| 06/06/2013|     19|      14|        0|             24|              3|               3|           2|                1|              3|                  0|                2|                9|           0|           0|           0|           0|           0|       0|       1|\n",
      "|1994|      1983|Graduation|       Married| 52247|      1|       0| 15/11/2013|     11|       5|        5|              6|              0|               2|           1|                1|              1|                  0|                2|                7|           0|           0|           0|           0|           0|       0|       0|\n",
      "| 387|      1976|     Basic|       Married|  7500|      0|       0| 13/11/2012|     59|       6|       16|             11|             11|               1|          16|                1|              2|                  0|                3|                8|           0|           0|           0|           0|           0|       0|       0|\n",
      "+----+----------+----------+--------------+------+-------+--------+-----------+-------+--------+---------+---------------+---------------+----------------+------------+-----------------+---------------+-------------------+-----------------+-----------------+------------+------------+------------+------------+------------+--------+--------+\n",
      "only showing top 10 rows\n",
      "\n"
     ]
    }
   ],
   "source": [
    "# remove outliers\n",
    "new_df_with_no_outliers = new_df.filter(new_df['total_Outliers']<=1)\n",
    "new_df_with_no_outliers = new_df_with_no_outliers.select(*marketData.columns)\n",
    "\n",
    "new_df_with_no_outliers.show(10)"
   ]
  },
  {
   "cell_type": "code",
   "execution_count": 31,
   "metadata": {},
   "outputs": [
    {
     "data": {
      "text/plain": [
       "1654"
      ]
     },
     "execution_count": 31,
     "metadata": {},
     "output_type": "execute_result"
    }
   ],
   "source": [
    "# count of the dataframe, after removing the outliers\n",
    "marketData = new_df_with_no_outliers\n",
    "marketData.count()"
   ]
  },
  {
   "cell_type": "markdown",
   "metadata": {},
   "source": [
    "#### 3.2.3 Categorical Attributes Coding Issues"
   ]
  },
  {
   "cell_type": "code",
   "execution_count": 32,
   "metadata": {},
   "outputs": [
    {
     "name": "stdout",
     "output_type": "stream",
     "text": [
      "+--------------+-----+\n",
      "|Marital_Status|count|\n",
      "+--------------+-----+\n",
      "|          YOLO|    2|\n",
      "|      Together|  446|\n",
      "|       Married|  653|\n",
      "|         Widow|   48|\n",
      "|      Divorced|  166|\n",
      "|         Alone|    2|\n",
      "|        Single|  337|\n",
      "+--------------+-----+\n",
      "\n"
     ]
    }
   ],
   "source": [
    "marketData.groupBy('Marital_Status').count().show()"
   ]
  },
  {
   "cell_type": "code",
   "execution_count": 33,
   "metadata": {},
   "outputs": [
    {
     "name": "stdout",
     "output_type": "stream",
     "text": [
      "+----------+-----+\n",
      "| Education|count|\n",
      "+----------+-----+\n",
      "|  2n Cycle|  151|\n",
      "|       PhD|  353|\n",
      "|    Master|  286|\n",
      "|Graduation|  813|\n",
      "|     Basic|   51|\n",
      "+----------+-----+\n",
      "\n"
     ]
    }
   ],
   "source": [
    "marketData.groupBy('Education').count().show()"
   ]
  },
  {
   "cell_type": "code",
   "execution_count": 34,
   "metadata": {},
   "outputs": [
    {
     "name": "stderr",
     "output_type": "stream",
     "text": [
      "/home/ubuntu/.local/lib/python3.10/site-packages/seaborn/_decorators.py:36: FutureWarning: Pass the following variable as a keyword arg: x. From version 0.12, the only valid positional argument will be `data`, and passing other arguments without an explicit keyword will result in an error or misinterpretation.\n",
      "  warnings.warn(\n"
     ]
    },
    {
     "data": {
      "image/png": "[encoded data removed]",
      "text/plain": [
       "<Figure size 432x288 with 1 Axes>"
      ]
     },
     "metadata": {
      "needs_background": "light"
     },
     "output_type": "display_data"
    }
   ],
   "source": [
    "pd = marketData.toPandas()\n",
    "sns.countplot(pd.Marital_Status)\n",
    "plt.show()"
   ]
  },
  {
   "cell_type": "code",
   "execution_count": 35,
   "metadata": {},
   "outputs": [
    {
     "name": "stderr",
     "output_type": "stream",
     "text": [
      "/home/ubuntu/.local/lib/python3.10/site-packages/seaborn/_decorators.py:36: FutureWarning: Pass the following variable as a keyword arg: x. From version 0.12, the only valid positional argument will be `data`, and passing other arguments without an explicit keyword will result in an error or misinterpretation.\n",
      "  warnings.warn(\n"
     ]
    },
    {
     "data": {
      "image/png": "[encoded data removed]",
      "text/plain": [
       "<Figure size 432x288 with 1 Axes>"
      ]
     },
     "metadata": {
      "needs_background": "light"
     },
     "output_type": "display_data"
    }
   ],
   "source": [
    "sns.countplot(pd.Education)\n",
    "plt.show()"
   ]
  },
  {
   "cell_type": "code",
   "execution_count": 36,
   "metadata": {},
   "outputs": [],
   "source": [
    "from pyspark.sql.functions import regexp_replace\n",
    "from pyspark.sql.functions import when\n",
    "# Group the values of Marital_Status\n",
    "marketData = marketData.withColumn(\"Marital_Status\", when(marketData.Marital_Status == \"Married\",\"Relationship\") \\\n",
    "      .when(marketData.Marital_Status == \"Together\",\"Relationship\") \\\n",
    "      .when(marketData.Marital_Status == \"Divorced\",\"Single\") \\\n",
    "      .when(marketData.Marital_Status == \"Widow\",\"Single\") \\\n",
    "      .when(marketData.Marital_Status == \"Alone\",\"Single\") \\\n",
    "      .when(marketData.Marital_Status == \"YOLO\",\"Single\") \\\n",
    "      .when(marketData.Marital_Status == \"Absurd\",\"Single\") \\\n",
    "      .otherwise(marketData.Marital_Status))"
   ]
  },
  {
   "cell_type": "code",
   "execution_count": 37,
   "metadata": {},
   "outputs": [
    {
     "name": "stdout",
     "output_type": "stream",
     "text": [
      "+--------------+-----+\n",
      "|Marital_Status|count|\n",
      "+--------------+-----+\n",
      "|  Relationship| 1099|\n",
      "|        Single|  555|\n",
      "+--------------+-----+\n",
      "\n"
     ]
    }
   ],
   "source": [
    "marketData.groupBy('Marital_Status').count().show()"
   ]
  },
  {
   "cell_type": "code",
   "execution_count": 38,
   "metadata": {},
   "outputs": [],
   "source": [
    "marketData = marketData.withColumn(\"Education\", when(marketData.Education == \"PhD\",\"Postgraduate\") \\\n",
    "      .when(marketData.Education == \"2n Cycle\",\"Postgraduate\") \\\n",
    "      .when(marketData.Education == \"Graduation\",\"Postgraduate\") \\\n",
    "      .when(marketData.Education == \"Master\",\"Postgraduate\") \\\n",
    "      .when(marketData.Education == \"Basic\",\"Undergraduate\") \\\n",
    "      .otherwise(marketData.Education))\n"
   ]
  },
  {
   "cell_type": "code",
   "execution_count": 39,
   "metadata": {},
   "outputs": [
    {
     "name": "stdout",
     "output_type": "stream",
     "text": [
      "+-------------+-----+\n",
      "|    Education|count|\n",
      "+-------------+-----+\n",
      "|Undergraduate|   51|\n",
      "| Postgraduate| 1603|\n",
      "+-------------+-----+\n",
      "\n"
     ]
    }
   ],
   "source": [
    "marketData.groupBy('Education').count().show()"
   ]
  },
  {
   "cell_type": "markdown",
   "metadata": {},
   "source": [
    "#### 3.2.4 Consistency in Attribute Naming"
   ]
  },
  {
   "cell_type": "code",
   "execution_count": 40,
   "metadata": {},
   "outputs": [
    {
     "name": "stdout",
     "output_type": "stream",
     "text": [
      "root\n",
      " |-- ID: integer (nullable = true)\n",
      " |-- Year_Birth: integer (nullable = true)\n",
      " |-- Education: string (nullable = true)\n",
      " |-- Marital_Status: string (nullable = true)\n",
      " |-- Income: integer (nullable = true)\n",
      " |-- Kidhome: integer (nullable = true)\n",
      " |-- Teenhome: integer (nullable = true)\n",
      " |-- Dt_Customer: string (nullable = true)\n",
      " |-- Recency: integer (nullable = true)\n",
      " |-- Wines: integer (nullable = true)\n",
      " |-- Fruits: integer (nullable = true)\n",
      " |-- Meat: integer (nullable = true)\n",
      " |-- Fish: integer (nullable = true)\n",
      " |-- Sweet: integer (nullable = true)\n",
      " |-- Gold: integer (nullable = true)\n",
      " |-- NumDealsPurchases: integer (nullable = true)\n",
      " |-- NumWebPurchases: integer (nullable = true)\n",
      " |-- NumCatalogPurchases: integer (nullable = true)\n",
      " |-- NumStorePurchases: integer (nullable = true)\n",
      " |-- NumWebVisitsMonth: integer (nullable = true)\n",
      " |-- AcceptedCmp3: integer (nullable = true)\n",
      " |-- AcceptedCmp4: integer (nullable = true)\n",
      " |-- AcceptedCmp5: integer (nullable = true)\n",
      " |-- AcceptedCmp1: integer (nullable = true)\n",
      " |-- AcceptedCmp2: integer (nullable = true)\n",
      " |-- Complain: integer (nullable = true)\n",
      " |-- Response: integer (nullable = true)\n",
      "\n"
     ]
    }
   ],
   "source": [
    "marketData = marketData.withColumnRenamed(\"MntWines\",\"Wines\") \\\n",
    "    .withColumnRenamed(\"MntFruits\",\"Fruits\") \\\n",
    "    .withColumnRenamed(\"MntMeatProducts\",\"Meat\") \\\n",
    "    .withColumnRenamed(\"MntFishProducts\",\"Fish\") \\\n",
    "    .withColumnRenamed(\"MntSweetProducts\",\"Sweet\") \\\n",
    "    .withColumnRenamed(\"MntGoldProds\",\"Gold\")\n",
    "    \n",
    "marketData.printSchema()"
   ]
  },
  {
   "cell_type": "markdown",
   "metadata": {},
   "source": [
    "### 3.3 Constructing/Deriving a New Feature"
   ]
  },
  {
   "cell_type": "code",
   "execution_count": 41,
   "metadata": {},
   "outputs": [],
   "source": [
    "from pyspark.sql.functions import abs\n",
    "# Combine different fields into a single field to reduce the number of dimensions\n",
    "marketData = marketData.withColumn(\"Kids\", abs(marketData.Kidhome + marketData.Teenhome)) \\\n",
    "    .withColumn(\"Expenses\", abs(marketData.Wines + marketData.Fruits + marketData.Meat +\n",
    "                                marketData.Fish + marketData.Sweet + marketData.Gold)) \\\n",
    "    .withColumn(\"TotalAcceptedCmp\", abs(marketData.AcceptedCmp1 + marketData.AcceptedCmp2 + \n",
    "                                        marketData.AcceptedCmp3 +  marketData.AcceptedCmp4 \n",
    "                                        + marketData.AcceptedCmp5 + marketData.Response)) \\\n",
    "    .withColumn(\"NumTotalPurchases\", abs(marketData.NumWebPurchases + marketData.NumCatalogPurchases \n",
    "                                         + marketData.NumStorePurchases + marketData.NumDealsPurchases))"
   ]
  },
  {
   "cell_type": "code",
   "execution_count": 42,
   "metadata": {},
   "outputs": [],
   "source": [
    "# Add a new attribute `Age`\n",
    "marketData = marketData.withColumn(\"Age\", abs(2015 - marketData.Year_Birth))\n"
   ]
  },
  {
   "cell_type": "code",
   "execution_count": 43,
   "metadata": {},
   "outputs": [
    {
     "name": "stdout",
     "output_type": "stream",
     "text": [
      "root\n",
      " |-- Education: string (nullable = true)\n",
      " |-- Marital_Status: string (nullable = true)\n",
      " |-- Income: integer (nullable = true)\n",
      " |-- Kids: integer (nullable = true)\n",
      " |-- Expenses: integer (nullable = true)\n",
      " |-- TotalAcceptedCmp: integer (nullable = true)\n",
      " |-- NumTotalPurchases: integer (nullable = true)\n",
      " |-- Age: integer (nullable = true)\n",
      "\n"
     ]
    }
   ],
   "source": [
    "# Delete original columns \n",
    "marketData = marketData.drop(\"AcceptedCmp1\" , \"AcceptedCmp2\", \"AcceptedCmp3\" , \n",
    "           \"AcceptedCmp4\",\"AcceptedCmp5\", \"Response\",\"NumWebVisitsMonth\", \n",
    "          \"NumWebPurchases\",\"NumCatalogPurchases\",\"NumStorePurchases\",\n",
    "           \"NumDealsPurchases\" , \"Kidhome\", \"Teenhome\",\"Wines\", \"Fruits\", \n",
    "          \"Meat\", \"Fish\", \"Sweet\", \"Gold\", \"ID\", \"Dt_Customer\", \"Year_Birth\", \"Recency\", \"Complain\")\n",
    "marketData.printSchema()  "
   ]
  },
  {
   "cell_type": "code",
   "execution_count": 44,
   "metadata": {},
   "outputs": [
    {
     "name": "stdout",
     "output_type": "stream",
     "text": [
      "+-------------+--------------+------+----+--------+----------------+-----------------+---+\n",
      "|    Education|Marital_Status|Income|Kids|Expenses|TotalAcceptedCmp|NumTotalPurchases|Age|\n",
      "+-------------+--------------+------+----+--------+----------------+-----------------+---+\n",
      "| Postgraduate|        Single| 46344|   2|      27|               0|                6| 61|\n",
      "| Postgraduate|  Relationship| 71613|   0|     776|               0|               21| 50|\n",
      "| Postgraduate|  Relationship| 26646|   1|      53|               0|                8| 31|\n",
      "| Postgraduate|  Relationship| 58293|   1|     422|               0|               19| 34|\n",
      "| Postgraduate|  Relationship| 62513|   1|     716|               0|               22| 48|\n",
      "| Postgraduate|        Single| 55635|   1|     590|               0|               21| 44|\n",
      "| Postgraduate|  Relationship| 33454|   1|     169|               0|               10| 30|\n",
      "| Postgraduate|  Relationship| 30351|   1|      46|               1|                6| 41|\n",
      "| Postgraduate|  Relationship| 52247|   1|      19|               0|                4| 32|\n",
      "|Undergraduate|  Relationship|  7500|   0|      61|               0|                6| 39|\n",
      "+-------------+--------------+------+----+--------+----------------+-----------------+---+\n",
      "only showing top 10 rows\n",
      "\n"
     ]
    }
   ],
   "source": [
    "marketData.show(10)"
   ]
  },
  {
   "cell_type": "markdown",
   "metadata": {},
   "source": [
    "### 3.4 Data Integration"
   ]
  },
  {
   "cell_type": "code",
   "execution_count": 45,
   "metadata": {},
   "outputs": [],
   "source": [
    "left = spark.read.csv('marketing_campaign_1.csv', header=True, inferSchema=True)\n",
    "right = spark.read.csv('marketing_campaign_2.csv', header=True, inferSchema=True)\n",
    "marketData2 = left.join(right, \"id\")"
   ]
  },
  {
   "cell_type": "code",
   "execution_count": 46,
   "metadata": {},
   "outputs": [
    {
     "name": "stdout",
     "output_type": "stream",
     "text": [
      "Number of Row: 2240\n",
      "Number of Columns: 29\n"
     ]
    }
   ],
   "source": [
    "# extracting number of rows \n",
    "row = marketData2.count()\n",
    "print(\"Number of Row:\", row) \n",
    "# extracting number of columns\n",
    "col = len(marketData2.columns)\n",
    "print(\"Number of Columns:\", col)"
   ]
  },
  {
   "cell_type": "markdown",
   "metadata": {},
   "source": [
    "### 3.5 Formatting Data"
   ]
  },
  {
   "cell_type": "code",
   "execution_count": 47,
   "metadata": {},
   "outputs": [
    {
     "name": "stdout",
     "output_type": "stream",
     "text": [
      "root\n",
      " |-- Education: string (nullable = true)\n",
      " |-- Marital_Status: string (nullable = true)\n",
      " |-- Income: integer (nullable = true)\n",
      " |-- Kids: integer (nullable = true)\n",
      " |-- Expenses: integer (nullable = true)\n",
      " |-- TotalAcceptedCmp: integer (nullable = true)\n",
      " |-- NumTotalPurchases: integer (nullable = true)\n",
      " |-- Age: integer (nullable = true)\n",
      "\n"
     ]
    }
   ],
   "source": [
    "marketData.printSchema()"
   ]
  },
  {
   "cell_type": "code",
   "execution_count": null,
   "metadata": {},
   "outputs": [],
   "source": []
  },
  {
   "cell_type": "markdown",
   "metadata": {},
   "source": [
    "## Step 4. Data transformation \n",
    "### 4.1 Data Reduction "
   ]
  },
  {
   "cell_type": "code",
   "execution_count": 48,
   "metadata": {},
   "outputs": [
    {
     "data": {
      "text/plain": [
       "0.5559244936789859"
      ]
     },
     "execution_count": 48,
     "metadata": {},
     "output_type": "execute_result"
    }
   ],
   "source": [
    "from pyspark.sql.functions import *\n",
    "marketData.stat.corr('Expenses','Income')"
   ]
  },
  {
   "cell_type": "code",
   "execution_count": 49,
   "metadata": {},
   "outputs": [
    {
     "data": {
      "text/plain": [
       "-0.32387011291288137"
      ]
     },
     "execution_count": 49,
     "metadata": {},
     "output_type": "execute_result"
    }
   ],
   "source": [
    "marketData.stat.corr('Expenses','Kids')"
   ]
  },
  {
   "cell_type": "code",
   "execution_count": 50,
   "metadata": {},
   "outputs": [
    {
     "data": {
      "text/plain": [
       "0.08391711308239698"
      ]
     },
     "execution_count": 50,
     "metadata": {},
     "output_type": "execute_result"
    }
   ],
   "source": [
    "marketData.stat.corr('Expenses','TotalAcceptedCmp')"
   ]
  },
  {
   "cell_type": "code",
   "execution_count": 51,
   "metadata": {},
   "outputs": [
    {
     "data": {
      "text/plain": [
       "0.8461557376707664"
      ]
     },
     "execution_count": 51,
     "metadata": {},
     "output_type": "execute_result"
    }
   ],
   "source": [
    "marketData.stat.corr('Expenses','NumTotalPurchases')"
   ]
  },
  {
   "cell_type": "code",
   "execution_count": 52,
   "metadata": {},
   "outputs": [
    {
     "data": {
      "text/plain": [
       "0.18006789740929358"
      ]
     },
     "execution_count": 52,
     "metadata": {},
     "output_type": "execute_result"
    }
   ],
   "source": [
    "marketData.stat.corr('Expenses','Age')"
   ]
  },
  {
   "cell_type": "markdown",
   "metadata": {},
   "source": [
    "### 4.2 Data Projection"
   ]
  },
  {
   "cell_type": "code",
   "execution_count": 53,
   "metadata": {},
   "outputs": [
    {
     "name": "stdout",
     "output_type": "stream",
     "text": [
      "+-------------+--------------+------+----+--------+----------------+-----------------+---+--------------+\n",
      "|    Education|Marital_Status|Income|Kids|Expenses|TotalAcceptedCmp|NumTotalPurchases|Age|EducationIndex|\n",
      "+-------------+--------------+------+----+--------+----------------+-----------------+---+--------------+\n",
      "| Postgraduate|        Single| 46344|   2|      27|               0|                6| 61|           0.0|\n",
      "| Postgraduate|  Relationship| 71613|   0|     776|               0|               21| 50|           0.0|\n",
      "| Postgraduate|  Relationship| 26646|   1|      53|               0|                8| 31|           0.0|\n",
      "| Postgraduate|  Relationship| 58293|   1|     422|               0|               19| 34|           0.0|\n",
      "| Postgraduate|  Relationship| 62513|   1|     716|               0|               22| 48|           0.0|\n",
      "| Postgraduate|        Single| 55635|   1|     590|               0|               21| 44|           0.0|\n",
      "| Postgraduate|  Relationship| 33454|   1|     169|               0|               10| 30|           0.0|\n",
      "| Postgraduate|  Relationship| 30351|   1|      46|               1|                6| 41|           0.0|\n",
      "| Postgraduate|  Relationship| 52247|   1|      19|               0|                4| 32|           0.0|\n",
      "|Undergraduate|  Relationship|  7500|   0|      61|               0|                6| 39|           1.0|\n",
      "| Postgraduate|        Single| 59354|   2|     310|               0|               15| 63|           0.0|\n",
      "| Postgraduate|  Relationship| 17323|   0|      46|               0|                5| 28|           0.0|\n",
      "| Postgraduate|  Relationship| 41850|   2|      96|               0|                9| 35|           0.0|\n",
      "| Postgraduate|  Relationship| 37760|   0|     317|               0|               13| 69|           0.0|\n",
      "| Postgraduate|        Single| 33812|   1|     133|               0|                8| 30|           0.0|\n",
      "| Postgraduate|  Relationship| 37040|   0|     316|               0|               12| 33|           0.0|\n",
      "| Postgraduate|  Relationship| 58607|   1|     972|               1|               17| 66|           0.0|\n",
      "| Postgraduate|  Relationship| 65324|   1|     544|               0|               20| 61|           0.0|\n",
      "| Postgraduate|  Relationship| 40689|   1|     444|               0|               20| 64|           0.0|\n",
      "| Postgraduate|        Single| 18589|   0|      75|               0|                8| 46|           0.0|\n",
      "+-------------+--------------+------+----+--------+----------------+-----------------+---+--------------+\n",
      "only showing top 20 rows\n",
      "\n"
     ]
    }
   ],
   "source": [
    "from pyspark.ml.feature import StringIndexer\n",
    "# Encoding `Education`\n",
    "indexer = StringIndexer(inputCol=\"Education\", outputCol=\"EducationIndex\") \n",
    "indexed = indexer.fit(marketData).transform(marketData) \n",
    "indexed.show()"
   ]
  },
  {
   "cell_type": "code",
   "execution_count": 54,
   "metadata": {},
   "outputs": [
    {
     "name": "stdout",
     "output_type": "stream",
     "text": [
      "+-------------+--------------+------+----+--------+----------------+-----------------+---+--------------+------------+\n",
      "|    Education|Marital_Status|Income|Kids|Expenses|TotalAcceptedCmp|NumTotalPurchases|Age|EducationIndex|MaritalIndex|\n",
      "+-------------+--------------+------+----+--------+----------------+-----------------+---+--------------+------------+\n",
      "| Postgraduate|        Single| 46344|   2|      27|               0|                6| 61|           0.0|         1.0|\n",
      "| Postgraduate|  Relationship| 71613|   0|     776|               0|               21| 50|           0.0|         0.0|\n",
      "| Postgraduate|  Relationship| 26646|   1|      53|               0|                8| 31|           0.0|         0.0|\n",
      "| Postgraduate|  Relationship| 58293|   1|     422|               0|               19| 34|           0.0|         0.0|\n",
      "| Postgraduate|  Relationship| 62513|   1|     716|               0|               22| 48|           0.0|         0.0|\n",
      "| Postgraduate|        Single| 55635|   1|     590|               0|               21| 44|           0.0|         1.0|\n",
      "| Postgraduate|  Relationship| 33454|   1|     169|               0|               10| 30|           0.0|         0.0|\n",
      "| Postgraduate|  Relationship| 30351|   1|      46|               1|                6| 41|           0.0|         0.0|\n",
      "| Postgraduate|  Relationship| 52247|   1|      19|               0|                4| 32|           0.0|         0.0|\n",
      "|Undergraduate|  Relationship|  7500|   0|      61|               0|                6| 39|           1.0|         0.0|\n",
      "| Postgraduate|        Single| 59354|   2|     310|               0|               15| 63|           0.0|         1.0|\n",
      "| Postgraduate|  Relationship| 17323|   0|      46|               0|                5| 28|           0.0|         0.0|\n",
      "| Postgraduate|  Relationship| 41850|   2|      96|               0|                9| 35|           0.0|         0.0|\n",
      "| Postgraduate|  Relationship| 37760|   0|     317|               0|               13| 69|           0.0|         0.0|\n",
      "| Postgraduate|        Single| 33812|   1|     133|               0|                8| 30|           0.0|         1.0|\n",
      "| Postgraduate|  Relationship| 37040|   0|     316|               0|               12| 33|           0.0|         0.0|\n",
      "| Postgraduate|  Relationship| 58607|   1|     972|               1|               17| 66|           0.0|         0.0|\n",
      "| Postgraduate|  Relationship| 65324|   1|     544|               0|               20| 61|           0.0|         0.0|\n",
      "| Postgraduate|  Relationship| 40689|   1|     444|               0|               20| 64|           0.0|         0.0|\n",
      "| Postgraduate|        Single| 18589|   0|      75|               0|                8| 46|           0.0|         1.0|\n",
      "+-------------+--------------+------+----+--------+----------------+-----------------+---+--------------+------------+\n",
      "only showing top 20 rows\n",
      "\n"
     ]
    }
   ],
   "source": [
    "# Encoding `Marital_Status`\n",
    "indexer = StringIndexer(inputCol=\"Marital_Status\", outputCol=\"MaritalIndex\") \n",
    "marketData = indexer.fit(indexed).transform(indexed) \n",
    "marketData.show()"
   ]
  },
  {
   "cell_type": "code",
   "execution_count": 55,
   "metadata": {},
   "outputs": [],
   "source": [
    "from pyspark.sql.types import IntegerType\n",
    "marketData = marketData.withColumn(\"EducationIndex\",marketData.EducationIndex.cast(IntegerType())) \\\n",
    "    .withColumn(\"MaritalIndex\",marketData.MaritalIndex.cast(IntegerType()))"
   ]
  },
  {
   "cell_type": "code",
   "execution_count": 56,
   "metadata": {},
   "outputs": [],
   "source": [
    "final_data = marketData.drop('Education','Marital_Status')"
   ]
  },
  {
   "cell_type": "code",
   "execution_count": 57,
   "metadata": {},
   "outputs": [
    {
     "name": "stdout",
     "output_type": "stream",
     "text": [
      "+------+----+--------+----------------+-----------------+---+---------+--------------+\n",
      "|Income|Kids|Expenses|TotalAcceptedCmp|NumTotalPurchases|Age|Education|Marital_Status|\n",
      "+------+----+--------+----------------+-----------------+---+---------+--------------+\n",
      "| 46344|   2|      27|               0|                6| 61|        0|             1|\n",
      "| 71613|   0|     776|               0|               21| 50|        0|             0|\n",
      "| 26646|   1|      53|               0|                8| 31|        0|             0|\n",
      "| 58293|   1|     422|               0|               19| 34|        0|             0|\n",
      "| 62513|   1|     716|               0|               22| 48|        0|             0|\n",
      "| 55635|   1|     590|               0|               21| 44|        0|             1|\n",
      "| 33454|   1|     169|               0|               10| 30|        0|             0|\n",
      "| 30351|   1|      46|               1|                6| 41|        0|             0|\n",
      "| 52247|   1|      19|               0|                4| 32|        0|             0|\n",
      "|  7500|   0|      61|               0|                6| 39|        1|             0|\n",
      "| 59354|   2|     310|               0|               15| 63|        0|             1|\n",
      "| 17323|   0|      46|               0|                5| 28|        0|             0|\n",
      "| 41850|   2|      96|               0|                9| 35|        0|             0|\n",
      "| 37760|   0|     317|               0|               13| 69|        0|             0|\n",
      "| 33812|   1|     133|               0|                8| 30|        0|             1|\n",
      "| 37040|   0|     316|               0|               12| 33|        0|             0|\n",
      "| 58607|   1|     972|               1|               17| 66|        0|             0|\n",
      "| 65324|   1|     544|               0|               20| 61|        0|             0|\n",
      "| 40689|   1|     444|               0|               20| 64|        0|             0|\n",
      "| 18589|   0|      75|               0|                8| 46|        0|             1|\n",
      "+------+----+--------+----------------+-----------------+---+---------+--------------+\n",
      "only showing top 20 rows\n",
      "\n"
     ]
    }
   ],
   "source": [
    "final_data = final_data.withColumnRenamed(\"EducationIndex\",\"Education\") \\\n",
    "    .withColumnRenamed(\"MaritalIndex\",\"Marital_Status\")\n",
    "final_data.show()"
   ]
  },
  {
   "cell_type": "code",
   "execution_count": 58,
   "metadata": {},
   "outputs": [
    {
     "name": "stdout",
     "output_type": "stream",
     "text": [
      "root\n",
      " |-- Income: integer (nullable = true)\n",
      " |-- Kids: integer (nullable = true)\n",
      " |-- Expenses: integer (nullable = true)\n",
      " |-- TotalAcceptedCmp: integer (nullable = true)\n",
      " |-- NumTotalPurchases: integer (nullable = true)\n",
      " |-- Age: integer (nullable = true)\n",
      " |-- Education: integer (nullable = true)\n",
      " |-- Marital_Status: integer (nullable = true)\n",
      "\n"
     ]
    }
   ],
   "source": [
    "final_data.printSchema()"
   ]
  },
  {
   "cell_type": "code",
   "execution_count": null,
   "metadata": {},
   "outputs": [],
   "source": []
  },
  {
   "cell_type": "markdown",
   "metadata": {},
   "source": [
    "## Step 6. Data Mining Algorithm"
   ]
  },
  {
   "cell_type": "markdown",
   "metadata": {},
   "source": [
    "#### KMeans Clustering"
   ]
  },
  {
   "cell_type": "code",
   "execution_count": 59,
   "metadata": {},
   "outputs": [
    {
     "name": "stdout",
     "output_type": "stream",
     "text": [
      "Defaulting to user installation because normal site-packages is not writeable\n",
      "Requirement already satisfied: scikit-learn in /home/ubuntu/.local/lib/python3.10/site-packages (1.1.2)\n",
      "Requirement already satisfied: joblib>=1.0.0 in /home/ubuntu/.local/lib/python3.10/site-packages (from scikit-learn) (1.2.0)\n",
      "Requirement already satisfied: numpy>=1.17.3 in /home/ubuntu/.local/lib/python3.10/site-packages (from scikit-learn) (1.22.4)\n",
      "Requirement already satisfied: scipy>=1.3.2 in /home/ubuntu/.local/lib/python3.10/site-packages (from scikit-learn) (1.8.1)\n",
      "Requirement already satisfied: threadpoolctl>=2.0.0 in /home/ubuntu/.local/lib/python3.10/site-packages (from scikit-learn) (3.1.0)\n"
     ]
    }
   ],
   "source": [
    "!pip install scikit-learn"
   ]
  },
  {
   "cell_type": "code",
   "execution_count": 60,
   "metadata": {},
   "outputs": [],
   "source": [
    "from sklearn.cluster import KMeans\n",
    "from sklearn.metrics import silhouette_score "
   ]
  },
  {
   "cell_type": "code",
   "execution_count": 61,
   "metadata": {},
   "outputs": [
    {
     "data": {
      "image/png": "[encoded data removed]",
      "text/plain": [
       "<Figure size 432x288 with 1 Axes>"
      ]
     },
     "metadata": {
      "needs_background": "light"
     },
     "output_type": "display_data"
    }
   ],
   "source": [
    "final_pd = final_data.toPandas()\n",
    "cs = []\n",
    "for i in range(1, 11):\n",
    "    kmeans = KMeans(n_clusters=i,init='k-means++',random_state=42)\n",
    "    kmeans.fit(final_pd)\n",
    "    cs.append(kmeans.inertia_)\n",
    "plt.plot(range(1, 11), cs)\n",
    "plt.title('The Elbow Method')\n",
    "plt.xlabel('Number of clusters')\n",
    "plt.ylabel('CS')\n",
    "plt.show()"
   ]
  },
  {
   "cell_type": "code",
   "execution_count": 62,
   "metadata": {},
   "outputs": [
    {
     "data": {
      "image/png": "[encoded data removed]",
      "text/plain": [
       "<Figure size 432x288 with 1 Axes>"
      ]
     },
     "metadata": {
      "needs_background": "light"
     },
     "output_type": "display_data"
    }
   ],
   "source": [
    "silhouette_scores = []\n",
    "for i in range(2,10):\n",
    "    m1=KMeans(n_clusters=i, random_state=42)\n",
    "    c = m1.fit_predict(final_pd)\n",
    "    silhouette_scores.append(silhouette_score(final_pd, m1.fit_predict(final_pd))) \n",
    "plt.bar(range(2,10), silhouette_scores) \n",
    "plt.xlabel('Number of clusters', fontsize = 20) \n",
    "plt.ylabel('S(i)', fontsize = 20) \n",
    "plt.show()"
   ]
  },
  {
   "cell_type": "code",
   "execution_count": 63,
   "metadata": {},
   "outputs": [],
   "source": [
    "# Training a predicting using KMeans Algorithm\n",
    "kmeans=KMeans(n_clusters=2, random_state=42).fit(final_pd)\n",
    "pred=kmeans.predict(final_pd)\n",
    "# Appending those cluster value into main dataframe\n",
    "final_pd['cluster'] = pred + 1"
   ]
  },
  {
   "cell_type": "code",
   "execution_count": 64,
   "metadata": {},
   "outputs": [
    {
     "data": {
      "text/html": [
       "<div>\n",
       "<style scoped>\n",
       "    .dataframe tbody tr th:only-of-type {\n",
       "        vertical-align: middle;\n",
       "    }\n",
       "\n",
       "    .dataframe tbody tr th {\n",
       "        vertical-align: top;\n",
       "    }\n",
       "\n",
       "    .dataframe thead th {\n",
       "        text-align: right;\n",
       "    }\n",
       "</style>\n",
       "<table border=\"1\" class=\"dataframe\">\n",
       "  <thead>\n",
       "    <tr style=\"text-align: right;\">\n",
       "      <th></th>\n",
       "      <th>Income</th>\n",
       "      <th>Kids</th>\n",
       "      <th>Expenses</th>\n",
       "      <th>TotalAcceptedCmp</th>\n",
       "      <th>NumTotalPurchases</th>\n",
       "      <th>Age</th>\n",
       "      <th>Education</th>\n",
       "      <th>Marital_Status</th>\n",
       "      <th>cluster</th>\n",
       "    </tr>\n",
       "  </thead>\n",
       "  <tbody>\n",
       "    <tr>\n",
       "      <th>0</th>\n",
       "      <td>46344</td>\n",
       "      <td>2</td>\n",
       "      <td>27</td>\n",
       "      <td>0</td>\n",
       "      <td>6</td>\n",
       "      <td>61</td>\n",
       "      <td>0</td>\n",
       "      <td>1</td>\n",
       "      <td>2</td>\n",
       "    </tr>\n",
       "    <tr>\n",
       "      <th>1</th>\n",
       "      <td>71613</td>\n",
       "      <td>0</td>\n",
       "      <td>776</td>\n",
       "      <td>0</td>\n",
       "      <td>21</td>\n",
       "      <td>50</td>\n",
       "      <td>0</td>\n",
       "      <td>0</td>\n",
       "      <td>1</td>\n",
       "    </tr>\n",
       "    <tr>\n",
       "      <th>2</th>\n",
       "      <td>26646</td>\n",
       "      <td>1</td>\n",
       "      <td>53</td>\n",
       "      <td>0</td>\n",
       "      <td>8</td>\n",
       "      <td>31</td>\n",
       "      <td>0</td>\n",
       "      <td>0</td>\n",
       "      <td>2</td>\n",
       "    </tr>\n",
       "    <tr>\n",
       "      <th>3</th>\n",
       "      <td>58293</td>\n",
       "      <td>1</td>\n",
       "      <td>422</td>\n",
       "      <td>0</td>\n",
       "      <td>19</td>\n",
       "      <td>34</td>\n",
       "      <td>0</td>\n",
       "      <td>0</td>\n",
       "      <td>1</td>\n",
       "    </tr>\n",
       "    <tr>\n",
       "      <th>4</th>\n",
       "      <td>62513</td>\n",
       "      <td>1</td>\n",
       "      <td>716</td>\n",
       "      <td>0</td>\n",
       "      <td>22</td>\n",
       "      <td>48</td>\n",
       "      <td>0</td>\n",
       "      <td>0</td>\n",
       "      <td>1</td>\n",
       "    </tr>\n",
       "    <tr>\n",
       "      <th>...</th>\n",
       "      <td>...</td>\n",
       "      <td>...</td>\n",
       "      <td>...</td>\n",
       "      <td>...</td>\n",
       "      <td>...</td>\n",
       "      <td>...</td>\n",
       "      <td>...</td>\n",
       "      <td>...</td>\n",
       "      <td>...</td>\n",
       "    </tr>\n",
       "    <tr>\n",
       "      <th>1649</th>\n",
       "      <td>666666</td>\n",
       "      <td>1</td>\n",
       "      <td>62</td>\n",
       "      <td>0</td>\n",
       "      <td>11</td>\n",
       "      <td>38</td>\n",
       "      <td>0</td>\n",
       "      <td>0</td>\n",
       "      <td>1</td>\n",
       "    </tr>\n",
       "    <tr>\n",
       "      <th>1650</th>\n",
       "      <td>34421</td>\n",
       "      <td>1</td>\n",
       "      <td>30</td>\n",
       "      <td>0</td>\n",
       "      <td>4</td>\n",
       "      <td>41</td>\n",
       "      <td>0</td>\n",
       "      <td>0</td>\n",
       "      <td>2</td>\n",
       "    </tr>\n",
       "    <tr>\n",
       "      <th>1651</th>\n",
       "      <td>56981</td>\n",
       "      <td>0</td>\n",
       "      <td>1241</td>\n",
       "      <td>1</td>\n",
       "      <td>19</td>\n",
       "      <td>34</td>\n",
       "      <td>0</td>\n",
       "      <td>1</td>\n",
       "      <td>1</td>\n",
       "    </tr>\n",
       "    <tr>\n",
       "      <th>1652</th>\n",
       "      <td>69245</td>\n",
       "      <td>1</td>\n",
       "      <td>843</td>\n",
       "      <td>0</td>\n",
       "      <td>23</td>\n",
       "      <td>59</td>\n",
       "      <td>0</td>\n",
       "      <td>0</td>\n",
       "      <td>1</td>\n",
       "    </tr>\n",
       "    <tr>\n",
       "      <th>1653</th>\n",
       "      <td>52869</td>\n",
       "      <td>2</td>\n",
       "      <td>172</td>\n",
       "      <td>1</td>\n",
       "      <td>11</td>\n",
       "      <td>61</td>\n",
       "      <td>0</td>\n",
       "      <td>0</td>\n",
       "      <td>1</td>\n",
       "    </tr>\n",
       "  </tbody>\n",
       "</table>\n",
       "<p>1654 rows × 9 columns</p>\n",
       "</div>"
      ],
      "text/plain": [
       "      Income  Kids  Expenses  TotalAcceptedCmp  NumTotalPurchases  Age  \\\n",
       "0      46344     2        27                 0                  6   61   \n",
       "1      71613     0       776                 0                 21   50   \n",
       "2      26646     1        53                 0                  8   31   \n",
       "3      58293     1       422                 0                 19   34   \n",
       "4      62513     1       716                 0                 22   48   \n",
       "...      ...   ...       ...               ...                ...  ...   \n",
       "1649  666666     1        62                 0                 11   38   \n",
       "1650   34421     1        30                 0                  4   41   \n",
       "1651   56981     0      1241                 1                 19   34   \n",
       "1652   69245     1       843                 0                 23   59   \n",
       "1653   52869     2       172                 1                 11   61   \n",
       "\n",
       "      Education  Marital_Status  cluster  \n",
       "0             0               1        2  \n",
       "1             0               0        1  \n",
       "2             0               0        2  \n",
       "3             0               0        1  \n",
       "4             0               0        1  \n",
       "...         ...             ...      ...  \n",
       "1649          0               0        1  \n",
       "1650          0               0        2  \n",
       "1651          0               1        1  \n",
       "1652          0               0        1  \n",
       "1653          0               0        1  \n",
       "\n",
       "[1654 rows x 9 columns]"
      ]
     },
     "execution_count": 64,
     "metadata": {},
     "output_type": "execute_result"
    }
   ],
   "source": [
    "final_pd"
   ]
  },
  {
   "cell_type": "code",
   "execution_count": 65,
   "metadata": {},
   "outputs": [
    {
     "name": "stdout",
     "output_type": "stream",
     "text": [
      "2    931\n",
      "1    723\n",
      "Name: cluster, dtype: int64\n"
     ]
    }
   ],
   "source": [
    "print(final_pd['cluster'].value_counts())"
   ]
  },
  {
   "cell_type": "code",
   "execution_count": null,
   "metadata": {},
   "outputs": [],
   "source": []
  },
  {
   "cell_type": "markdown",
   "metadata": {},
   "source": [
    "#### Multiple Linear Regression"
   ]
  },
  {
   "cell_type": "code",
   "execution_count": 66,
   "metadata": {},
   "outputs": [],
   "source": [
    "# Input\n",
    "x = final_pd[['Education','Marital_Status','Income',\n",
    "        'Kids','TotalAcceptedCmp','NumTotalPurchases']]\n",
    "# Target\n",
    "y = final_pd['Expenses']"
   ]
  },
  {
   "cell_type": "code",
   "execution_count": 67,
   "metadata": {},
   "outputs": [],
   "source": [
    "from sklearn import linear_model\n",
    "from sklearn.linear_model import LinearRegression\n",
    "import statsmodels.api as sm"
   ]
  },
  {
   "cell_type": "code",
   "execution_count": 68,
   "metadata": {},
   "outputs": [
    {
     "name": "stdout",
     "output_type": "stream",
     "text": [
      "Intercept: \n",
      " -179.14650431618873\n",
      "Coefficients: \n",
      " [-1.29486474e+01  1.13839924e+01  3.03920929e-03 -1.21252465e+02\n",
      "  1.57528250e+01  4.22239174e+01]\n",
      "                            OLS Regression Results                            \n",
      "==============================================================================\n",
      "Dep. Variable:               Expenses   R-squared:                       0.784\n",
      "Model:                            OLS   Adj. R-squared:                  0.783\n",
      "Method:                 Least Squares   F-statistic:                     994.0\n",
      "Date:                Thu, 13 Oct 2022   Prob (F-statistic):               0.00\n",
      "Time:                        20:12:58   Log-Likelihood:                -11046.\n",
      "No. Observations:                1654   AIC:                         2.211e+04\n",
      "Df Residuals:                    1647   BIC:                         2.214e+04\n",
      "Df Model:                           6                                         \n",
      "Covariance Type:            nonrobust                                         \n",
      "=====================================================================================\n",
      "                        coef    std err          t      P>|t|      [0.025      0.975]\n",
      "-------------------------------------------------------------------------------------\n",
      "const              -179.1465     15.479    -11.574      0.000    -209.507    -148.786\n",
      "Education           -12.9486     28.256     -0.458      0.647     -68.370      42.473\n",
      "Marital_Status       11.3840     10.058      1.132      0.258      -8.344      31.112\n",
      "Income                0.0030      0.000     13.213      0.000       0.003       0.003\n",
      "Kids               -121.2525      6.850    -17.701      0.000    -134.688    -107.817\n",
      "TotalAcceptedCmp     15.7528     14.180      1.111      0.267     -12.060      43.566\n",
      "NumTotalPurchases    42.2239      0.773     54.637      0.000      40.708      43.740\n",
      "==============================================================================\n",
      "Omnibus:                      490.529   Durbin-Watson:                   1.892\n",
      "Prob(Omnibus):                  0.000   Jarque-Bera (JB):            11850.914\n",
      "Skew:                           0.821   Prob(JB):                         0.00\n",
      "Kurtosis:                      16.010   Cond. No.                     3.14e+05\n",
      "==============================================================================\n",
      "\n",
      "Notes:\n",
      "[1] Standard Errors assume that the covariance matrix of the errors is correctly specified.\n",
      "[2] The condition number is large, 3.14e+05. This might indicate that there are\n",
      "strong multicollinearity or other numerical problems.\n"
     ]
    }
   ],
   "source": [
    "regr = linear_model.LinearRegression()\n",
    "regr.fit(x, y)\n",
    "\n",
    "print('Intercept: \\n', regr.intercept_)\n",
    "print('Coefficients: \\n', regr.coef_)\n",
    "\n",
    "# with statsmodels\n",
    "x = sm.add_constant(x) # adding a constant\n",
    " \n",
    "linear_model = sm.OLS(y, x).fit()\n",
    "linear_preds = linear_model.predict(x) \n",
    " \n",
    "print_linear_model = linear_model.summary()\n",
    "print(print_linear_model)"
   ]
  },
  {
   "cell_type": "code",
   "execution_count": null,
   "metadata": {},
   "outputs": [],
   "source": []
  },
  {
   "cell_type": "markdown",
   "metadata": {},
   "source": [
    "### 6.3 Build/Select Model with Algorithm/Model Parameter(s) "
   ]
  },
  {
   "cell_type": "code",
   "execution_count": 69,
   "metadata": {},
   "outputs": [
    {
     "name": "stdout",
     "output_type": "stream",
     "text": [
      "2    931\n",
      "1    723\n",
      "Name: cluster, dtype: int64\n"
     ]
    }
   ],
   "source": [
    "# K-Means\n",
    "# Training a predicting using KMeans Algorithm\n",
    "kmeans=KMeans(n_clusters=2, random_state=42).fit(final_pd)\n",
    "pred=kmeans.predict(final_pd)\n",
    "# Appending those cluster value into main dataframe\n",
    "final_pd['cluster'] = pred + 1\n",
    "print(final_pd['cluster'].value_counts())"
   ]
  },
  {
   "cell_type": "code",
   "execution_count": 70,
   "metadata": {},
   "outputs": [],
   "source": [
    "from sklearn import linear_model\n",
    "from sklearn.linear_model import LinearRegression\n",
    "import statsmodels.api as sm"
   ]
  },
  {
   "cell_type": "code",
   "execution_count": 71,
   "metadata": {},
   "outputs": [
    {
     "name": "stdout",
     "output_type": "stream",
     "text": [
      "Intercept: \n",
      " -179.14650431618873\n",
      "Coefficients: \n",
      " [-1.29486474e+01  1.13839924e+01  3.03920929e-03 -1.21252465e+02\n",
      "  1.57528250e+01  4.22239174e+01]\n"
     ]
    }
   ],
   "source": [
    "# Multiple Linear Regression\n",
    "# Input\n",
    "x = final_pd[['Education','Marital_Status','Income',\n",
    "        'Kids','TotalAcceptedCmp','NumTotalPurchases']]\n",
    "# Target\n",
    "y = final_pd['Expenses']\n",
    "regr = linear_model.LinearRegression()\n",
    "regr.fit(x, y)\n",
    "print('Intercept: \\n', regr.intercept_)\n",
    "print('Coefficients: \\n', regr.coef_)"
   ]
  },
  {
   "cell_type": "code",
   "execution_count": null,
   "metadata": {},
   "outputs": [],
   "source": []
  },
  {
   "cell_type": "markdown",
   "metadata": {},
   "source": [
    "## Step 7. Data Mining \n",
    "### 7.1 Creating Logical Test(s)"
   ]
  },
  {
   "cell_type": "code",
   "execution_count": 75,
   "metadata": {},
   "outputs": [],
   "source": [
    "train_data,test_data = final_data.randomSplit([0.7,0.3])"
   ]
  },
  {
   "cell_type": "markdown",
   "metadata": {},
   "source": [
    "### 7.2 Conducting Data Mining (Running the model) "
   ]
  },
  {
   "cell_type": "code",
   "execution_count": 76,
   "metadata": {},
   "outputs": [
    {
     "name": "stdout",
     "output_type": "stream",
     "text": [
      "2    931\n",
      "1    723\n",
      "Name: cluster, dtype: int64\n"
     ]
    }
   ],
   "source": [
    "# K-Means\n",
    "kmeans=KMeans(n_clusters=2, random_state=42).fit(final_pd)\n",
    "pred=kmeans.predict(final_pd)\n",
    "# Appending those cluster value into main dataframe\n",
    "final_pd['cluster'] = pred + 1\n",
    "print(final_pd['cluster'].value_counts())"
   ]
  },
  {
   "cell_type": "code",
   "execution_count": 77,
   "metadata": {},
   "outputs": [
    {
     "data": {
      "text/html": [
       "<div>\n",
       "<style scoped>\n",
       "    .dataframe tbody tr th:only-of-type {\n",
       "        vertical-align: middle;\n",
       "    }\n",
       "\n",
       "    .dataframe tbody tr th {\n",
       "        vertical-align: top;\n",
       "    }\n",
       "\n",
       "    .dataframe thead th {\n",
       "        text-align: right;\n",
       "    }\n",
       "</style>\n",
       "<table border=\"1\" class=\"dataframe\">\n",
       "  <thead>\n",
       "    <tr style=\"text-align: right;\">\n",
       "      <th></th>\n",
       "      <th>Income</th>\n",
       "      <th>Kids</th>\n",
       "      <th>Expenses</th>\n",
       "      <th>TotalAcceptedCmp</th>\n",
       "      <th>NumTotalPurchases</th>\n",
       "      <th>Age</th>\n",
       "      <th>Education</th>\n",
       "      <th>Marital_Status</th>\n",
       "      <th>cluster</th>\n",
       "    </tr>\n",
       "  </thead>\n",
       "  <tbody>\n",
       "    <tr>\n",
       "      <th>0</th>\n",
       "      <td>46344</td>\n",
       "      <td>2</td>\n",
       "      <td>27</td>\n",
       "      <td>0</td>\n",
       "      <td>6</td>\n",
       "      <td>61</td>\n",
       "      <td>0</td>\n",
       "      <td>1</td>\n",
       "      <td>2</td>\n",
       "    </tr>\n",
       "    <tr>\n",
       "      <th>1</th>\n",
       "      <td>71613</td>\n",
       "      <td>0</td>\n",
       "      <td>776</td>\n",
       "      <td>0</td>\n",
       "      <td>21</td>\n",
       "      <td>50</td>\n",
       "      <td>0</td>\n",
       "      <td>0</td>\n",
       "      <td>1</td>\n",
       "    </tr>\n",
       "    <tr>\n",
       "      <th>2</th>\n",
       "      <td>26646</td>\n",
       "      <td>1</td>\n",
       "      <td>53</td>\n",
       "      <td>0</td>\n",
       "      <td>8</td>\n",
       "      <td>31</td>\n",
       "      <td>0</td>\n",
       "      <td>0</td>\n",
       "      <td>2</td>\n",
       "    </tr>\n",
       "    <tr>\n",
       "      <th>3</th>\n",
       "      <td>58293</td>\n",
       "      <td>1</td>\n",
       "      <td>422</td>\n",
       "      <td>0</td>\n",
       "      <td>19</td>\n",
       "      <td>34</td>\n",
       "      <td>0</td>\n",
       "      <td>0</td>\n",
       "      <td>1</td>\n",
       "    </tr>\n",
       "    <tr>\n",
       "      <th>4</th>\n",
       "      <td>62513</td>\n",
       "      <td>1</td>\n",
       "      <td>716</td>\n",
       "      <td>0</td>\n",
       "      <td>22</td>\n",
       "      <td>48</td>\n",
       "      <td>0</td>\n",
       "      <td>0</td>\n",
       "      <td>1</td>\n",
       "    </tr>\n",
       "    <tr>\n",
       "      <th>...</th>\n",
       "      <td>...</td>\n",
       "      <td>...</td>\n",
       "      <td>...</td>\n",
       "      <td>...</td>\n",
       "      <td>...</td>\n",
       "      <td>...</td>\n",
       "      <td>...</td>\n",
       "      <td>...</td>\n",
       "      <td>...</td>\n",
       "    </tr>\n",
       "    <tr>\n",
       "      <th>1649</th>\n",
       "      <td>666666</td>\n",
       "      <td>1</td>\n",
       "      <td>62</td>\n",
       "      <td>0</td>\n",
       "      <td>11</td>\n",
       "      <td>38</td>\n",
       "      <td>0</td>\n",
       "      <td>0</td>\n",
       "      <td>1</td>\n",
       "    </tr>\n",
       "    <tr>\n",
       "      <th>1650</th>\n",
       "      <td>34421</td>\n",
       "      <td>1</td>\n",
       "      <td>30</td>\n",
       "      <td>0</td>\n",
       "      <td>4</td>\n",
       "      <td>41</td>\n",
       "      <td>0</td>\n",
       "      <td>0</td>\n",
       "      <td>2</td>\n",
       "    </tr>\n",
       "    <tr>\n",
       "      <th>1651</th>\n",
       "      <td>56981</td>\n",
       "      <td>0</td>\n",
       "      <td>1241</td>\n",
       "      <td>1</td>\n",
       "      <td>19</td>\n",
       "      <td>34</td>\n",
       "      <td>0</td>\n",
       "      <td>1</td>\n",
       "      <td>1</td>\n",
       "    </tr>\n",
       "    <tr>\n",
       "      <th>1652</th>\n",
       "      <td>69245</td>\n",
       "      <td>1</td>\n",
       "      <td>843</td>\n",
       "      <td>0</td>\n",
       "      <td>23</td>\n",
       "      <td>59</td>\n",
       "      <td>0</td>\n",
       "      <td>0</td>\n",
       "      <td>1</td>\n",
       "    </tr>\n",
       "    <tr>\n",
       "      <th>1653</th>\n",
       "      <td>52869</td>\n",
       "      <td>2</td>\n",
       "      <td>172</td>\n",
       "      <td>1</td>\n",
       "      <td>11</td>\n",
       "      <td>61</td>\n",
       "      <td>0</td>\n",
       "      <td>0</td>\n",
       "      <td>1</td>\n",
       "    </tr>\n",
       "  </tbody>\n",
       "</table>\n",
       "<p>1654 rows × 9 columns</p>\n",
       "</div>"
      ],
      "text/plain": [
       "      Income  Kids  Expenses  TotalAcceptedCmp  NumTotalPurchases  Age  \\\n",
       "0      46344     2        27                 0                  6   61   \n",
       "1      71613     0       776                 0                 21   50   \n",
       "2      26646     1        53                 0                  8   31   \n",
       "3      58293     1       422                 0                 19   34   \n",
       "4      62513     1       716                 0                 22   48   \n",
       "...      ...   ...       ...               ...                ...  ...   \n",
       "1649  666666     1        62                 0                 11   38   \n",
       "1650   34421     1        30                 0                  4   41   \n",
       "1651   56981     0      1241                 1                 19   34   \n",
       "1652   69245     1       843                 0                 23   59   \n",
       "1653   52869     2       172                 1                 11   61   \n",
       "\n",
       "      Education  Marital_Status  cluster  \n",
       "0             0               1        2  \n",
       "1             0               0        1  \n",
       "2             0               0        2  \n",
       "3             0               0        1  \n",
       "4             0               0        1  \n",
       "...         ...             ...      ...  \n",
       "1649          0               0        1  \n",
       "1650          0               0        2  \n",
       "1651          0               1        1  \n",
       "1652          0               0        1  \n",
       "1653          0               0        1  \n",
       "\n",
       "[1654 rows x 9 columns]"
      ]
     },
     "execution_count": 77,
     "metadata": {},
     "output_type": "execute_result"
    }
   ],
   "source": [
    "final_pd"
   ]
  },
  {
   "cell_type": "code",
   "execution_count": null,
   "metadata": {},
   "outputs": [],
   "source": []
  },
  {
   "cell_type": "code",
   "execution_count": 78,
   "metadata": {},
   "outputs": [],
   "source": [
    "# Multiple Linear Regression"
   ]
  },
  {
   "cell_type": "code",
   "execution_count": 79,
   "metadata": {},
   "outputs": [],
   "source": [
    "from pyspark.ml.regression import LinearRegression"
   ]
  },
  {
   "cell_type": "code",
   "execution_count": 80,
   "metadata": {},
   "outputs": [],
   "source": [
    "# Import VectorAssembler and Vectors\n",
    "from pyspark.ml.linalg import Vectors\n",
    "from pyspark.ml.feature import VectorAssembler"
   ]
  },
  {
   "cell_type": "code",
   "execution_count": 81,
   "metadata": {},
   "outputs": [],
   "source": [
    "assembler = VectorAssembler(\n",
    "    inputCols=['Income','Kids','Expenses','TotalAcceptedCmp','NumTotalPurchases','Age','Education','Marital_Status'],\n",
    "    outputCol=\"features\")"
   ]
  },
  {
   "cell_type": "code",
   "execution_count": 82,
   "metadata": {},
   "outputs": [],
   "source": [
    "output = assembler.transform(final_data)"
   ]
  },
  {
   "cell_type": "code",
   "execution_count": 83,
   "metadata": {},
   "outputs": [
    {
     "name": "stdout",
     "output_type": "stream",
     "text": [
      "root\n",
      " |-- Income: integer (nullable = true)\n",
      " |-- Kids: integer (nullable = true)\n",
      " |-- Expenses: integer (nullable = true)\n",
      " |-- TotalAcceptedCmp: integer (nullable = true)\n",
      " |-- NumTotalPurchases: integer (nullable = true)\n",
      " |-- Age: integer (nullable = true)\n",
      " |-- Education: integer (nullable = true)\n",
      " |-- Marital_Status: integer (nullable = true)\n",
      " |-- features: vector (nullable = true)\n",
      "\n"
     ]
    }
   ],
   "source": [
    "# Using print schema, you see that the features output column has been added. \n",
    "output.printSchema()"
   ]
  },
  {
   "cell_type": "code",
   "execution_count": 84,
   "metadata": {},
   "outputs": [
    {
     "name": "stdout",
     "output_type": "stream",
     "text": [
      "+--------------------+--------+\n",
      "|            features|Expenses|\n",
      "+--------------------+--------+\n",
      "|[46344.0,2.0,27.0...|      27|\n",
      "|(8,[0,2,4,5],[716...|     776|\n",
      "|[26646.0,1.0,53.0...|      53|\n",
      "|[58293.0,1.0,422....|     422|\n",
      "|[62513.0,1.0,716....|     716|\n",
      "|[55635.0,1.0,590....|     590|\n",
      "|[33454.0,1.0,169....|     169|\n",
      "|[30351.0,1.0,46.0...|      46|\n",
      "|[52247.0,1.0,19.0...|      19|\n",
      "|[7500.0,0.0,61.0,...|      61|\n",
      "|[59354.0,2.0,310....|     310|\n",
      "|(8,[0,2,4,5],[173...|      46|\n",
      "|[41850.0,2.0,96.0...|      96|\n",
      "|(8,[0,2,4,5],[377...|     317|\n",
      "|[33812.0,1.0,133....|     133|\n",
      "|(8,[0,2,4,5],[370...|     316|\n",
      "|[58607.0,1.0,972....|     972|\n",
      "|[65324.0,1.0,544....|     544|\n",
      "|[40689.0,1.0,444....|     444|\n",
      "|[18589.0,0.0,75.0...|      75|\n",
      "+--------------------+--------+\n",
      "only showing top 20 rows\n",
      "\n"
     ]
    }
   ],
   "source": [
    "# Let's select two columns (the feature and predictor).\n",
    "# This is now in the appropriate format to be processed by Spark.\n",
    "final = output.select(\"features\",'Expenses')\n",
    "final.show()"
   ]
  },
  {
   "cell_type": "code",
   "execution_count": 85,
   "metadata": {},
   "outputs": [],
   "source": [
    "train_data,test_data = final.randomSplit([0.7,0.3])"
   ]
  },
  {
   "cell_type": "code",
   "execution_count": 86,
   "metadata": {},
   "outputs": [
    {
     "name": "stdout",
     "output_type": "stream",
     "text": [
      "+-------+------------------+\n",
      "|summary|          Expenses|\n",
      "+-------+------------------+\n",
      "|  count|              1179|\n",
      "|   mean| 364.7913486005089|\n",
      "| stddev|405.42315678081576|\n",
      "|    min|                 5|\n",
      "|    max|              1835|\n",
      "+-------+------------------+\n",
      "\n",
      "+-------+------------------+\n",
      "|summary|          Expenses|\n",
      "+-------+------------------+\n",
      "|  count|               475|\n",
      "|   mean|388.42105263157896|\n",
      "| stddev|433.65298934478255|\n",
      "|    min|                 6|\n",
      "|    max|              2077|\n",
      "+-------+------------------+\n",
      "\n"
     ]
    }
   ],
   "source": [
    "# Let's see our training data.\n",
    "train_data.describe().show()\n",
    "\n",
    "# And our testing data.\n",
    "test_data.describe().show()"
   ]
  },
  {
   "cell_type": "code",
   "execution_count": 87,
   "metadata": {},
   "outputs": [],
   "source": [
    "lr = LinearRegression(labelCol='Expenses')"
   ]
  },
  {
   "cell_type": "code",
   "execution_count": 88,
   "metadata": {},
   "outputs": [
    {
     "name": "stderr",
     "output_type": "stream",
     "text": [
      "22/10/13 20:13:37 WARN Instrumentation: [82b4019e] regParam is zero, which might cause numerical instability and overfitting.\n",
      "22/10/13 20:13:37 WARN InstanceBuilder$NativeBLAS: Failed to load implementation from:dev.ludovic.netlib.blas.JNIBLAS\n",
      "22/10/13 20:13:37 WARN InstanceBuilder$NativeBLAS: Failed to load implementation from:dev.ludovic.netlib.blas.ForeignLinkerBLAS\n",
      "22/10/13 20:13:37 WARN InstanceBuilder$NativeLAPACK: Failed to load implementation from:dev.ludovic.netlib.lapack.JNILAPACK\n"
     ]
    }
   ],
   "source": [
    "# Fit the model to the data.\n",
    "lrModel = lr.fit(train_data)"
   ]
  },
  {
   "cell_type": "code",
   "execution_count": 89,
   "metadata": {},
   "outputs": [
    {
     "name": "stdout",
     "output_type": "stream",
     "text": [
      "Coefficients: [3.4434909945796204e-18,-7.744943779065991e-14,0.9999999999999993,3.419505071533345e-14,2.719771933591249e-14,-1.9578340465851703e-16,4.394496340915669e-14,7.24788405630513e-15] Intercept: -2.105767555842457e-13\n"
     ]
    }
   ],
   "source": [
    "# Print the coefficients and intercept for linear regression.\n",
    "print(\"Coefficients: {} Intercept: {}\".format(lrModel.coefficients,lrModel.intercept))"
   ]
  },
  {
   "cell_type": "code",
   "execution_count": 90,
   "metadata": {},
   "outputs": [],
   "source": [
    "# Let's evaluate the model against the test data.\n",
    "test_results = lrModel.evaluate(test_data)"
   ]
  },
  {
   "cell_type": "code",
   "execution_count": 91,
   "metadata": {},
   "outputs": [
    {
     "name": "stderr",
     "output_type": "stream",
     "text": [
      "/home/ubuntu/spark-3.2.1-bin-hadoop2.7/python/pyspark/sql/context.py:125: FutureWarning: Deprecated in 3.0.0. Use SparkSession.builder.getOrCreate() instead.\n",
      "  warnings.warn(\n"
     ]
    },
    {
     "name": "stdout",
     "output_type": "stream",
     "text": [
      "+--------------------+\n",
      "|           residuals|\n",
      "+--------------------+\n",
      "|4.973799150320701...|\n",
      "|6.394884621840902...|\n",
      "|4.263256414560601...|\n",
      "|4.263256414560601...|\n",
      "|3.552713678800501...|\n",
      "|1.421085471520200...|\n",
      "|                 0.0|\n",
      "|1.421085471520200...|\n",
      "|-2.13162820728030...|\n",
      "|                 0.0|\n",
      "|5.684341886080801...|\n",
      "|-5.68434188608080...|\n",
      "|-5.68434188608080...|\n",
      "|5.684341886080801...|\n",
      "|-2.84217094304040...|\n",
      "|-1.42108547152020...|\n",
      "|-1.13686837721616...|\n",
      "|-5.68434188608080...|\n",
      "|-1.13686837721616...|\n",
      "|-5.68434188608080...|\n",
      "+--------------------+\n",
      "only showing top 20 rows\n",
      "\n",
      "RSME: 1.8214137074996894e-13\n"
     ]
    }
   ],
   "source": [
    "# Interesting results! This shows the difference between the predicted value and the test data.\n",
    "test_results.residuals.show()\n",
    "\n",
    "# Let's get some evaluation metrics (as discussed in the previous linear regression notebook).\n",
    "print(\"RSME: {}\".format(test_results.rootMeanSquaredError))"
   ]
  },
  {
   "cell_type": "code",
   "execution_count": 92,
   "metadata": {},
   "outputs": [
    {
     "name": "stdout",
     "output_type": "stream",
     "text": [
      "R2: 1.0\n"
     ]
    }
   ],
   "source": [
    "# We can also get the R2 value. \n",
    "print(\"R2: {}\".format(test_results.r2))"
   ]
  },
  {
   "cell_type": "code",
   "execution_count": 93,
   "metadata": {},
   "outputs": [
    {
     "name": "stdout",
     "output_type": "stream",
     "text": [
      "+-------+------------------+\n",
      "|summary|          Expenses|\n",
      "+-------+------------------+\n",
      "|  count|              1654|\n",
      "|   mean|371.57738814993957|\n",
      "| stddev|  413.733180129633|\n",
      "|    min|                 5|\n",
      "|    max|              2077|\n",
      "+-------+------------------+\n",
      "\n"
     ]
    }
   ],
   "source": [
    "final.describe().show()"
   ]
  },
  {
   "cell_type": "code",
   "execution_count": null,
   "metadata": {},
   "outputs": [],
   "source": []
  },
  {
   "cell_type": "markdown",
   "metadata": {},
   "source": [
    "## Step 8. Interpretation \n",
    "### Visualising the Data, Results, Models and Patterns"
   ]
  },
  {
   "cell_type": "code",
   "execution_count": 101,
   "metadata": {},
   "outputs": [
    {
     "data": {
      "text/plain": [
       "<AxesSubplot:xlabel='Income', ylabel='Count'>"
      ]
     },
     "execution_count": 101,
     "metadata": {},
     "output_type": "execute_result"
    },
    {
     "data": {
      "image/png": "[encoded data removed]",
      "text/plain": [
       "<Figure size 432x288 with 1 Axes>"
      ]
     },
     "metadata": {
      "needs_background": "light"
     },
     "output_type": "display_data"
    }
   ],
   "source": [
    "sns.histplot(data=final_pd, x='Income', hue='cluster', stat='count', edgecolor=None)"
   ]
  },
  {
   "cell_type": "code",
   "execution_count": 102,
   "metadata": {},
   "outputs": [
    {
     "data": {
      "text/plain": [
       "<AxesSubplot:xlabel='Expenses', ylabel='Count'>"
      ]
     },
     "execution_count": 102,
     "metadata": {},
     "output_type": "execute_result"
    },
    {
     "data": {
      "image/png": "[encoded data removed]",
      "text/plain": [
       "<Figure size 432x288 with 1 Axes>"
      ]
     },
     "metadata": {
      "needs_background": "light"
     },
     "output_type": "display_data"
    }
   ],
   "source": [
    "sns.histplot(data=final_pd, x='Expenses', hue='cluster', stat='count', edgecolor=None)"
   ]
  },
  {
   "cell_type": "code",
   "execution_count": 103,
   "metadata": {},
   "outputs": [
    {
     "data": {
      "text/plain": [
       "<AxesSubplot:xlabel='Age', ylabel='Count'>"
      ]
     },
     "execution_count": 103,
     "metadata": {},
     "output_type": "execute_result"
    },
    {
     "data": {
      "image/png": "[encoded data removed]",
      "text/plain": [
       "<Figure size 432x288 with 1 Axes>"
      ]
     },
     "metadata": {
      "needs_background": "light"
     },
     "output_type": "display_data"
    }
   ],
   "source": [
    "sns.histplot(data=final_pd, x='Age', hue='cluster', stat='count', edgecolor=None)"
   ]
  },
  {
   "cell_type": "code",
   "execution_count": 104,
   "metadata": {},
   "outputs": [
    {
     "data": {
      "text/plain": [
       "<AxesSubplot:xlabel='Education', ylabel='Count'>"
      ]
     },
     "execution_count": 104,
     "metadata": {},
     "output_type": "execute_result"
    },
    {
     "data": {
      "image/png": "[encoded data removed]",
      "text/plain": [
       "<Figure size 432x288 with 1 Axes>"
      ]
     },
     "metadata": {
      "needs_background": "light"
     },
     "output_type": "display_data"
    }
   ],
   "source": [
    "sns.histplot(data=final_pd, x='Education', hue='cluster', stat='count', edgecolor=None)"
   ]
  },
  {
   "cell_type": "code",
   "execution_count": 105,
   "metadata": {},
   "outputs": [
    {
     "data": {
      "text/plain": [
       "<AxesSubplot:xlabel='Marital_Status', ylabel='Count'>"
      ]
     },
     "execution_count": 105,
     "metadata": {},
     "output_type": "execute_result"
    },
    {
     "data": {
      "image/png": "[encoded data removed]",
      "text/plain": [
       "<Figure size 432x288 with 1 Axes>"
      ]
     },
     "metadata": {
      "needs_background": "light"
     },
     "output_type": "display_data"
    }
   ],
   "source": [
    "sns.histplot(data=final_pd, x='Marital_Status', hue='cluster', stat='count', edgecolor=None)"
   ]
  },
  {
   "cell_type": "code",
   "execution_count": null,
   "metadata": {},
   "outputs": [],
   "source": []
  },
  {
   "cell_type": "markdown",
   "metadata": {},
   "source": [
    "### 8.5. Iterations"
   ]
  },
  {
   "cell_type": "code",
   "execution_count": 106,
   "metadata": {},
   "outputs": [],
   "source": [
    "# Multiple Linear Regression"
   ]
  },
  {
   "cell_type": "code",
   "execution_count": 107,
   "metadata": {},
   "outputs": [],
   "source": [
    "from sklearn.model_selection import train_test_split"
   ]
  },
  {
   "cell_type": "code",
   "execution_count": 108,
   "metadata": {},
   "outputs": [
    {
     "name": "stdout",
     "output_type": "stream",
     "text": [
      "shape of original dataset : (1654, 9)\n",
      "shape of input - training set (1157, 7)\n",
      "shape of output - training set (1157,)\n",
      "shape of input - testing set (497, 7)\n",
      "shape of output - testing set (497,)\n"
     ]
    }
   ],
   "source": [
    "# Input\n",
    "x = final_pd[['Education','Marital_Status','Age','Income','Kids',\n",
    "                'TotalAcceptedCmp','NumTotalPurchases']]\n",
    "# Output\n",
    "y = final_pd.Expenses\n",
    "\n",
    "# Split\n",
    "x_train,x_test,y_train,y_test=train_test_split(x,y,test_size=0.3)\n",
    " \n",
    "# Print shapes of testing and training sets :\n",
    "print(\"shape of original dataset :\", final_pd.shape)\n",
    "print(\"shape of input - training set\", x_train.shape)\n",
    "print(\"shape of output - training set\", y_train.shape)\n",
    "print(\"shape of input - testing set\", x_test.shape)\n",
    "print(\"shape of output - testing set\", y_test.shape)"
   ]
  },
  {
   "cell_type": "code",
   "execution_count": 112,
   "metadata": {},
   "outputs": [
    {
     "name": "stdout",
     "output_type": "stream",
     "text": [
      "Intercept: \n",
      " -185.7628148117878\n",
      "Coefficients: \n",
      " [-1.78816846e+01  6.20838137e+00  7.03111514e-01  2.37866870e-03\n",
      " -1.27493973e+02  4.42660460e-01  4.35975376e+01]\n"
     ]
    }
   ],
   "source": [
    "model = linear_model.LinearRegression()\n",
    "model.fit(x_train, y_train)\n",
    "print('Intercept: \\n', model.intercept_)\n",
    "print('Coefficients: \\n', model.coef_)"
   ]
  },
  {
   "cell_type": "code",
   "execution_count": 113,
   "metadata": {},
   "outputs": [
    {
     "name": "stdout",
     "output_type": "stream",
     "text": [
      "                                 OLS Regression Results                                \n",
      "=======================================================================================\n",
      "Dep. Variable:               Expenses   R-squared (uncentered):                   0.872\n",
      "Model:                            OLS   Adj. R-squared (uncentered):              0.871\n",
      "Method:                 Least Squares   F-statistic:                              1121.\n",
      "Date:                Thu, 13 Oct 2022   Prob (F-statistic):                        0.00\n",
      "Time:                        20:16:12   Log-Likelihood:                         -7774.6\n",
      "No. Observations:                1157   AIC:                                  1.556e+04\n",
      "Df Residuals:                    1150   BIC:                                  1.560e+04\n",
      "Df Model:                           7                                                  \n",
      "Covariance Type:            nonrobust                                                  \n",
      "=====================================================================================\n",
      "                        coef    std err          t      P>|t|      [0.025      0.975]\n",
      "-------------------------------------------------------------------------------------\n",
      "Education           -74.4954     36.107     -2.063      0.039    -145.338      -3.652\n",
      "Marital_Status       -5.4153     12.400     -0.437      0.662     -29.744      18.914\n",
      "Age                  -1.9316      0.369     -5.232      0.000      -2.656      -1.207\n",
      "Income                0.0020      0.000      7.990      0.000       0.002       0.003\n",
      "Kids               -145.0649      8.311    -17.454      0.000    -161.372    -128.758\n",
      "TotalAcceptedCmp     -1.6475     17.520     -0.094      0.925     -36.023      32.728\n",
      "NumTotalPurchases    42.3716      0.928     45.635      0.000      40.550      44.193\n",
      "==============================================================================\n",
      "Omnibus:                      387.647   Durbin-Watson:                   2.063\n",
      "Prob(Omnibus):                  0.000   Jarque-Bera (JB):             2882.815\n",
      "Skew:                           1.343   Prob(JB):                         0.00\n",
      "Kurtosis:                      10.252   Cond. No.                     3.24e+05\n",
      "==============================================================================\n",
      "\n",
      "Notes:\n",
      "[1] R² is computed without centering (uncentered) since the model does not contain a constant.\n",
      "[2] Standard Errors assume that the covariance matrix of the errors is correctly specified.\n",
      "[3] The condition number is large, 3.24e+05. This might indicate that there are\n",
      "strong multicollinearity or other numerical problems.\n"
     ]
    }
   ],
   "source": [
    "# with statsmodels\n",
    "x = sm.add_constant(x) # adding a constant\n",
    " \n",
    "model = sm.OLS(y_train, x_train).fit()\n",
    "predictions = model.predict(x_test)\n",
    " \n",
    "print_linear_model = model.summary()\n",
    "print(print_linear_model)"
   ]
  },
  {
   "cell_type": "code",
   "execution_count": null,
   "metadata": {},
   "outputs": [],
   "source": []
  },
  {
   "cell_type": "code",
   "execution_count": null,
   "metadata": {},
   "outputs": [],
   "source": []
  },
  {
   "cell_type": "code",
   "execution_count": null,
   "metadata": {},
   "outputs": [],
   "source": []
  },
  {
   "cell_type": "code",
   "execution_count": null,
   "metadata": {},
   "outputs": [],
   "source": []
  },
  {
   "cell_type": "code",
   "execution_count": null,
   "metadata": {},
   "outputs": [],
   "source": []
  }
 ],
 "metadata": {
  "kernelspec": {
   "display_name": "Python 3 (ipykernel)",
   "language": "python",
   "name": "python3"
  },
  "language_info": {
   "codemirror_mode": {
    "name": "ipython",
    "version": 3
   },
   "file_extension": ".py",
   "mimetype": "text/x-python",
   "name": "python",
   "nbconvert_exporter": "python",
   "pygments_lexer": "ipython3",
   "version": "3.10.4"
  }
 },
 "nbformat": 4,
 "nbformat_minor": 4
}
